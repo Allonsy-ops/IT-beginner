{
 "cells": [
  {
   "cell_type": "code",
   "execution_count": 1,
   "metadata": {},
   "outputs": [
    {
     "name": "stdout",
     "output_type": "stream",
     "text": [
      "<class 'tuple'>\n",
      "<class 'tuple'>\n",
      "<class 'tuple'>\n",
      "<class 'int'>\n"
     ]
    }
   ],
   "source": [
    "'''\n",
    "    1. 创建元组可以用小括号 ()，也可以什么都不用，为了可读性，建议还是用 ()。\n",
    "    2. 元组中只包含一个元素时，需要在元素后面添加逗号，否则括号会被当作运算符使用\n",
    "    3. 和列表一样可以切片\n",
    "    4. 不可变 immutable\n",
    "'''\n",
    "a = 1,2,3\n",
    "print(type(a))\n",
    "\n",
    "b = ()\n",
    "print(type(b))\n",
    "\n",
    "c = (1,)\n",
    "print(type(c))\n",
    "\n",
    "d = (1)\n",
    "print(type(d))"
   ]
  },
  {
   "cell_type": "code",
   "execution_count": 5,
   "metadata": {},
   "outputs": [
    {
     "name": "stdout",
     "output_type": "stream",
     "text": [
      "(0, 0, 0)\n",
      "(0, 0, 0)\n"
     ]
    }
   ],
   "source": [
    "a = (0,) * 3\n",
    "print(a)\n",
    "\n",
    "print(   ((0,) *3)   )\n",
    "# 加不加括号没有区别"
   ]
  },
  {
   "cell_type": "code",
   "execution_count": 6,
   "metadata": {},
   "outputs": [
    {
     "name": "stdout",
     "output_type": "stream",
     "text": [
      "<generator object <genexpr> at 0x000001CB0B112948>\n"
     ]
    }
   ],
   "source": [
    "a = ((0,) for i in range(3) for j in range(3))\n",
    "print(a)"
   ]
  },
  {
   "cell_type": "code",
   "execution_count": 8,
   "metadata": {},
   "outputs": [
    {
     "name": "stdout",
     "output_type": "stream",
     "text": [
      "(0, 0, 0, 0, 0, 0, 0, 0, 0)\n"
     ]
    }
   ],
   "source": [
    "a = (0,) * 3\n",
    "b = (a) * 3\n",
    "print(b)\n",
    "# 不像列表"
   ]
  },
  {
   "cell_type": "code",
   "execution_count": 9,
   "metadata": {},
   "outputs": [
    {
     "name": "stdout",
     "output_type": "stream",
     "text": [
      "[[0, 0, 0], [0, 0, 0], [0, 0, 0]]\n"
     ]
    }
   ],
   "source": [
    "a = [0] * 3\n",
    "b = [a] * 3\n",
    "print(b)"
   ]
  },
  {
   "cell_type": "code",
   "execution_count": 15,
   "metadata": {},
   "outputs": [
    {
     "name": "stdout",
     "output_type": "stream",
     "text": [
      "<class 'tuple'>\n",
      "2 4\n",
      "(1,)\n"
     ]
    }
   ],
   "source": [
    "a = (1,2,3),(2,3,4)\n",
    "print(type(a))\n",
    "# 多维元组没有外面的那一层括号，有也行，就像1-d一样\n",
    "\n",
    "'''\n",
    "    indexing and slicing \n",
    "'''\n",
    "print(a[0][1],a[1][2])\n",
    "print(a[0][:1])"
   ]
  },
  {
   "cell_type": "code",
   "execution_count": 18,
   "metadata": {},
   "outputs": [
    {
     "name": "stdout",
     "output_type": "stream",
     "text": [
      "(1, 2, 3, [4, 5, 6])\n",
      "(1, 2, 3, [9, 5, 6])\n"
     ]
    }
   ],
   "source": [
    "\"\"\"\n",
    "    元组具有不可变性，immutable\n",
    "    但如果元组内有可变元素，如元组内有列表，那么列表内元素是可变的\n",
    "\"\"\"\n",
    "t1 = (1, 2, 3, [4, 5, 6])\n",
    "print(t1) # (1, 2, 3, [4, 5, 6])\n",
    "t1[3][0] = 9\n",
    "print(t1) # (1, 2, 3, [9, 5, 6])"
   ]
  },
  {
   "cell_type": "code",
   "execution_count": 17,
   "metadata": {},
   "outputs": [
    {
     "name": "stdout",
     "output_type": "stream",
     "text": [
      "('Monday', 'Tuesday', 'Wednesday', 'Thursday', 'Friday')\n"
     ]
    }
   ],
   "source": [
    "\"\"\"\n",
    "    元组的操作\n",
    "    1. 比较操作符\n",
    "    2. 逻辑操作符\n",
    "    3. 连接操作符 +\n",
    "    4. 重复操作符 *\n",
    "    5. 成员关系操作符 in 、 not in\n",
    "\"\"\"\n"
   ]
  },
  {
   "cell_type": "code",
   "execution_count": 19,
   "metadata": {},
   "outputs": [
    {
     "name": "stdout",
     "output_type": "stream",
     "text": [
      "('Monday', 'Tuesday', 'Wednesday', 'Thursday', 'Friday', 'Monday', 'Tuesday', 'Wednesday', 'Thursday', 'Friday')\n"
     ]
    }
   ],
   "source": [
    "# 元组拼接 (concatenate) + / *\n",
    "\n",
    "week = ('Monday', 'Tuesday', 'Thursday', 'Friday')\n",
    "week = week[:2] + ('Wednesday',) + week[2:] \n",
    "week *= 2\n",
    "print(week)"
   ]
  },
  {
   "cell_type": "code",
   "execution_count": 22,
   "metadata": {},
   "outputs": [
    {
     "name": "stdout",
     "output_type": "stream",
     "text": [
      "1\n",
      "2\n"
     ]
    }
   ],
   "source": [
    "\"\"\"\n",
    "    元组内置方法\n",
    "    tuple.count(obj)\n",
    "    tuple.index(obj)\n",
    "\"\"\"\n",
    "print(t1.count(3))\n",
    "print(t1.index(3))"
   ]
  },
  {
   "cell_type": "code",
   "execution_count": 1,
   "metadata": {},
   "outputs": [
    {
     "name": "stdout",
     "output_type": "stream",
     "text": [
      "1 10.31 python\n"
     ]
    }
   ],
   "source": [
    "# 解压()unpack元组\n",
    "t = (1, 10.31, 'python')\n",
    "(a, b, c) = t\n",
    "print(a, b, c)\n"
   ]
  },
  {
   "cell_type": "code",
   "execution_count": 2,
   "metadata": {},
   "outputs": [
    {
     "name": "stdout",
     "output_type": "stream",
     "text": [
      "1 10.31 OK python\n"
     ]
    }
   ],
   "source": [
    "t = (1, 10.31, ('OK', 'python'))\n",
    "(a, b, (c, d)) = t\n",
    "print(a, b, c, d)\n"
   ]
  },
  {
   "cell_type": "code",
   "execution_count": 7,
   "metadata": {},
   "outputs": [
    {
     "name": "stdout",
     "output_type": "stream",
     "text": [
      "1 2 5\n",
      "[3, 4] <class 'list'>\n"
     ]
    }
   ],
   "source": [
    "'''\n",
    "    如果你只想要元组其中几个元素，用通配符「*」，英文叫 wildcard，在计算机语言中代表一个或多个元素。下例就是把多个元素丢给了 rest 变量。\n",
    "\n",
    "'''\n",
    "t = 1, 2, 3, 4, 5\n",
    "a, b, *rest, c = t\n",
    "\n",
    "print(a, b, c) \n",
    "print(rest,type(rest)) "
   ]
  },
  {
   "cell_type": "code",
   "execution_count": 6,
   "metadata": {},
   "outputs": [
    {
     "name": "stdout",
     "output_type": "stream",
     "text": [
      "1 2\n",
      "[3, 4, 5]\n"
     ]
    }
   ],
   "source": [
    "#  如果你根本不在乎 rest 变量，那么就用通配符「*」加上下划线「_」\n",
    "\n",
    "a, b, *_ = t\n",
    "print(a, b)\n"
   ]
  },
  {
   "cell_type": "code",
   "execution_count": 8,
   "metadata": {},
   "outputs": [
    {
     "name": "stdout",
     "output_type": "stream",
     "text": [
      "(1, 2, 1, 2)\n",
      "(1, 1)\n",
      "2\n"
     ]
    }
   ],
   "source": [
    "'''\n",
    "    练习题\n",
    "    1.分析以下的输出结果以及为什么会产生这样的结果\n",
    "    (1, 2)*2\n",
    "    (1, )*2\n",
    "    (1)*2\n",
    "'''\n",
    "\"\"\"\n",
    "    (1, 2) * 2  -> (1,2,1,2) 元组 * 2， 元素重复两次\n",
    "    (1, ) * 2 -> (1,1) 元组重复\n",
    "    (1) * 2 -> 2 int重复\n",
    "\"\"\"\n",
    "print((1, 2) * 2)\n",
    "print((1, ) * 2 )\n",
    "print((1) * 2)"
   ]
  },
  {
   "cell_type": "code",
   "execution_count": null,
   "metadata": {},
   "outputs": [],
   "source": [
    "'''\n",
    "    2.拆包过程是什么？\n",
    "    a, b = 1, 2\n",
    "    上述过程属于拆包吗？\n",
    "    可迭代对象拆包时，怎么赋值给占位符？\n",
    "\n",
    "'''\n",
    "\"\"\"\n",
    "    拆包的过程是赋值过程\n",
    "    把元组赋值给一个变量，再把这个变量赋值给一个元组*，元组*里的元素得到的值是元组里的元素值\n",
    "    属于\n",
    "    用通配符 * 代表多个元素？\n",
    "    \n",
    "\"\"\""
   ]
  }
 ],
 "metadata": {
  "kernelspec": {
   "display_name": "Python 3",
   "language": "python",
   "name": "python3"
  },
  "language_info": {
   "codemirror_mode": {
    "name": "ipython",
    "version": 3
   },
   "file_extension": ".py",
   "mimetype": "text/x-python",
   "name": "python",
   "nbconvert_exporter": "python",
   "pygments_lexer": "ipython3",
   "version": "3.7.7"
  }
 },
 "nbformat": 4,
 "nbformat_minor": 4
}
