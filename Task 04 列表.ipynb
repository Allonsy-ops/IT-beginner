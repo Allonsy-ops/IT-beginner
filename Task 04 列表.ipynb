{
 "cells": [
  {
   "cell_type": "code",
   "execution_count": 1,
   "metadata": {},
   "outputs": [
    {
     "data": {
      "text/plain": [
       "\"\\n简单数据类型\\n1. 整型 <class 'int'>\\n2. 浮点型 <class 'float'>\\n3. 布尔型 <class 'bool'>\\n\\n容器数据类型\\n1. 列表 <class 'list'>\\n2. 元组 <class 'tuple'>\\n3. 字典 <class 'dict'>\\n4. 集合 <class 'set'>\\n5. 字符串 <class 'str'>\\n\\n\""
      ]
     },
     "execution_count": 1,
     "metadata": {},
     "output_type": "execute_result"
    }
   ],
   "source": [
    "\"\"\"\n",
    "简单数据类型\n",
    "1. 整型 <class 'int'>\n",
    "2. 浮点型 <class 'float'>\n",
    "3. 布尔型 <class 'bool'>\n",
    "\n",
    "容器数据类型\n",
    "1. 列表 <class 'list'>\n",
    "2. 元组 <class 'tuple'>\n",
    "3. 字典 <class 'dict'>\n",
    "4. 集合 <class 'set'>\n",
    "5. 字符串 <class 'str'>\n",
    "\n",
    "\"\"\"\n",
    "# 元组是不可变类型，集合是可变类型并且元素唯一\n",
    "\n"
   ]
  },
  {
   "cell_type": "code",
   "execution_count": 2,
   "metadata": {},
   "outputs": [
    {
     "name": "stdout",
     "output_type": "stream",
     "text": [
      "[1, 2, 3, 4, 5] <class 'list'>\n"
     ]
    }
   ],
   "source": [
    "# 直接创建列表\n",
    "\n",
    "x = [1,2,3,4,5]\n",
    "print(x,type(x))"
   ]
  },
  {
   "cell_type": "code",
   "execution_count": 3,
   "metadata": {},
   "outputs": [
    {
     "name": "stdout",
     "output_type": "stream",
     "text": [
      "[1, 3, 5, 7, 9] <class 'list'>\n"
     ]
    }
   ],
   "source": [
    "# range()创建列表\n",
    "\n",
    "x = list(range(1,11,2))\n",
    "print(x,type(x))"
   ]
  },
  {
   "cell_type": "code",
   "execution_count": 4,
   "metadata": {},
   "outputs": [
    {
     "name": "stdout",
     "output_type": "stream",
     "text": [
      "[10, 8, 6, 4, 2] <class 'list'>\n"
     ]
    }
   ],
   "source": [
    "x = list(range(10,1,-2))\n",
    "print(x,type(x))"
   ]
  },
  {
   "cell_type": "code",
   "execution_count": 5,
   "metadata": {},
   "outputs": [
    {
     "name": "stdout",
     "output_type": "stream",
     "text": [
      "[0, 0, 0, 0, 0] <class 'list'>\n"
     ]
    }
   ],
   "source": [
    "# 利用推导式创建列表\n",
    "x = [0] * 5\n",
    "print(x,type(x))"
   ]
  },
  {
   "cell_type": "code",
   "execution_count": 6,
   "metadata": {},
   "outputs": [
    {
     "name": "stdout",
     "output_type": "stream",
     "text": [
      "[0, 0, 0, 0, 0] <class 'list'>\n",
      "[0, 1, 2, 3, 4] <class 'list'>\n"
     ]
    }
   ],
   "source": [
    "x = [0 for i in range(5)]\n",
    "print(x, type(x))\n",
    "\n",
    "y = [i for i in range(5)]\n",
    "print(y, type(y))"
   ]
  },
  {
   "cell_type": "code",
   "execution_count": 7,
   "metadata": {},
   "outputs": [
    {
     "data": {
      "text/plain": [
       "[0, 1, 4, 9, 16]"
      ]
     },
     "execution_count": 7,
     "metadata": {},
     "output_type": "execute_result"
    }
   ],
   "source": [
    "x = [i ** 2 for i in range(5)]\n",
    "x"
   ]
  },
  {
   "cell_type": "code",
   "execution_count": 8,
   "metadata": {},
   "outputs": [
    {
     "name": "stdout",
     "output_type": "stream",
     "text": [
      "[[0, 0, 0], [0, 0, 0], [0, 0, 0], [0, 0, 0]] <class 'list'>\n"
     ]
    }
   ],
   "source": [
    "# 创建多维数组\n",
    "\n",
    "x = [[0 for col in range(3)] for row in range(4)]\n",
    "print(x, type(x))"
   ]
  },
  {
   "cell_type": "code",
   "execution_count": 9,
   "metadata": {},
   "outputs": [
    {
     "data": {
      "text/plain": [
       "[[0, 0, 0], [0, 0, 0], [0, 0, 0], [0, 0, 0]]"
      ]
     },
     "execution_count": 9,
     "metadata": {},
     "output_type": "execute_result"
    }
   ],
   "source": [
    "x = [[0] * 3 for row in range(4)]\n",
    "x"
   ]
  },
  {
   "cell_type": "code",
   "execution_count": 10,
   "metadata": {},
   "outputs": [
    {
     "data": {
      "text/plain": [
       "[[0, 0, 0], [0, 0, 0], [0, 0, 0], [0, 0, 0]]"
      ]
     },
     "execution_count": 10,
     "metadata": {},
     "output_type": "execute_result"
    }
   ],
   "source": [
    "a = [0] * 3\n",
    "x = [a] * 4\n",
    "x"
   ]
  },
  {
   "cell_type": "code",
   "execution_count": 11,
   "metadata": {},
   "outputs": [
    {
     "name": "stdout",
     "output_type": "stream",
     "text": [
      "[1, 2, 3, 'laso', 5] <class 'list'>\n"
     ]
    }
   ],
   "source": [
    "# 创建混合列表\n",
    "mix = [1,2,3,'laso',5]\n",
    "print(mix, type(mix))"
   ]
  },
  {
   "cell_type": "code",
   "execution_count": 12,
   "metadata": {},
   "outputs": [
    {
     "name": "stdout",
     "output_type": "stream",
     "text": [
      "['Mon', 'Tue', 'Wen', 'Thurs', 'Fri', 'Sat', 'Sun']\n",
      "['Mon', 'Tue', 'Wen', 'Thurs', 'Fri', 'Sat']\n",
      "['Mon', 'Tue', 'Wen', 'Thurs', 'Fri', 'Sat', '1']\n",
      "['Mon', 'Tue', 'Wen', 'Thurs', 'Fri', '1']\n",
      "['Mon', 'Tue', 'Wen', 'Thurs', 'Fri', 'Sat', '1']\n",
      "['Mon', 'Tue', 'Wen', 'Thurs', 'Fri', 'Sat']\n",
      "['Mon', 'Tue', 'Wen', 'Thurs']\n"
     ]
    }
   ],
   "source": [
    "\"\"\"\n",
    "    列表的方法\n",
    "    list是 mutable,  可以用append， extend， insert， remove， pop，sort, reverse\n",
    "    \n",
    "\"\"\"\n",
    "x = ['Mon','Tue', 'Wen','Thurs','Fri','Sat']\n",
    "x.append('Sun')\n",
    "print(x)\n",
    "\n",
    "x.pop() # pop 默认删除最后一个进入的值\n",
    "print(x)\n",
    "\n",
    "x.extend('1')\n",
    "print(x)\n",
    "\n",
    "x.pop(5)\n",
    "print(x)\n",
    "\n",
    "x.insert(5,'Sat')\n",
    "print(x)\n",
    "\n",
    "x.remove('1')\n",
    "print(x)\n",
    "\n",
    "# remove(obj), pop(index) del list[:], pop删除元素后还可以继续使用它\n",
    "del x[-2:]\n",
    "print(x)"
   ]
  },
  {
   "cell_type": "code",
   "execution_count": 13,
   "metadata": {},
   "outputs": [
    {
     "name": "stdout",
     "output_type": "stream",
     "text": [
      "['Thurs', 'Wen', 'Tue', 'Mon']\n"
     ]
    }
   ],
   "source": [
    "# 获取列表中的元素 - 切片\n",
    "x = ['Mon','Tue', 'Wen','Thurs','Fri','Sat']\n",
    "print(x[-3::-1]) # step = -1 -> 列表反向排列"
   ]
  },
  {
   "cell_type": "code",
   "execution_count": 14,
   "metadata": {},
   "outputs": [
    {
     "name": "stdout",
     "output_type": "stream",
     "text": [
      "['Mon', 'Tue', 'Wen', 'Thurs', 'Fri', 'Sat']\n"
     ]
    }
   ],
   "source": [
    "# 复制列表中所有元素 -> 浅拷贝 -> 仍然会根据原列表的改变而改变\n",
    "x = ['Mon','Tue', 'Wen','Thurs','Fri','Sat']\n",
    "y = x[:]\n",
    "print(x)"
   ]
  },
  {
   "cell_type": "code",
   "execution_count": 15,
   "metadata": {},
   "outputs": [
    {
     "data": {
      "text/plain": [
       "'\\n    浅拷贝(copy)：拷贝父对象，不会拷贝对象的内部的子对象。\\n    深拷贝(deepcopy)： copy 模块的 deepcopy 方法，完全拷贝了父对象及其子对象。\\n'"
      ]
     },
     "execution_count": 15,
     "metadata": {},
     "output_type": "execute_result"
    }
   ],
   "source": [
    "\"\"\"\n",
    "    浅拷贝(copy)：拷贝父对象，不会拷贝对象的内部的子对象。\n",
    "    深拷贝(deepcopy)： copy 模块的 deepcopy 方法，完全拷贝了父对象及其子对象。\n",
    "\"\"\""
   ]
  },
  {
   "cell_type": "code",
   "execution_count": 16,
   "metadata": {},
   "outputs": [
    {
     "name": "stdout",
     "output_type": "stream",
     "text": [
      "初始状态\n",
      "l = [5, 4, 6, 3, 8]\n",
      "a = [5, 4, 6, 3, 8]\n",
      "b = [5, 4, 6, 3, 8]\n",
      "c = [5, 4, 6, 3, 8]\n",
      "d = [5, 4, 6, 3, 8]\n",
      "e = [5, 4, 6, 3, 8]\n",
      "\n",
      "sort后\n",
      "l = [3, 4, 5, 6, 8]\n",
      "a = [3, 4, 5, 6, 8]\n",
      "b = [5, 4, 6, 3, 8]\n",
      "c = [5, 4, 6, 3, 8]\n",
      "d = [5, 4, 6, 3, 8]\n",
      "e = [5, 4, 6, 3, 8]\n",
      "\n",
      "append后\n",
      "l = [3, 4, 5, 6, 8, 0]\n",
      "a = [3, 4, 5, 6, 8, 0]\n",
      "b = [5, 4, 6, 3, 8]\n",
      "c = [5, 4, 6, 3, 8]\n",
      "d = [5, 4, 6, 3, 8]\n",
      "e = [5, 4, 6, 3, 8]\n",
      "\n",
      "改变list元素后\n",
      "l = [7, 4, 5, 6, 8, 0]\n",
      "a = [7, 4, 5, 6, 8, 0]\n",
      "b = [5, 4, 6, 3, 8]\n",
      "c = [5, 4, 6, 3, 8]\n",
      "d = [5, 4, 6, 3, 8]\n",
      "e = [5, 4, 6, 3, 8]\n",
      "\n",
      "改变list后\n",
      "l = [[123, 456], [789, 213]]\n",
      "a = [7, 4, 5, 6, 8, 0]\n",
      "b = [5, 4, 6, 3, 8]\n",
      "c = [5, 4, 6, 3, 8]\n",
      "d = [5, 4, 6, 3, 8]\n",
      "e = [5, 4, 6, 3, 8]\n",
      "\n"
     ]
    }
   ],
   "source": [
    "import copy # 深度拷贝需要引入copy module\n",
    "'''\n",
    "    好像只有赋值引用才会随之改变呢\n",
    "'''\n",
    "\n",
    "l = [5,4,6,3,8]\n",
    "a = l #赋值引用，list 和 a 都指向同一个对象\n",
    "b = l.copy() #浅拷贝，list 和 b 是两个独立的对象\n",
    "c = l[:] \n",
    "d = copy.deepcopy(l)\n",
    "e = copy.copy(l)\n",
    "\n",
    "print('初始状态')\n",
    "print(\"l = %s\\na = %s\\nb = %s\\nc = %s\\nd = %s\\ne = %s\\n\" % (l,a,b,c,d,e))\n",
    "\n",
    "\n",
    "l.sort()\n",
    "print('sort后')\n",
    "print(\"l = %s\\na = %s\\nb = %s\\nc = %s\\nd = %s\\ne = %s\\n\" % (l,a,b,c,d,e))\n",
    "    \n",
    "l.append(0)\n",
    "print('append后')\n",
    "print(\"l = %s\\na = %s\\nb = %s\\nc = %s\\nd = %s\\ne = %s\\n\" % (l,a,b,c,d,e))\n",
    "\n",
    "l[0] = 7\n",
    "print('改变list元素后')\n",
    "print(\"l = %s\\na = %s\\nb = %s\\nc = %s\\nd = %s\\ne = %s\\n\" % (l,a,b,c,d,e))\n",
    "\n",
    "l = [[123,456,], [789, 213]]\n",
    "print('改变list后')\n",
    "print(\"l = %s\\na = %s\\nb = %s\\nc = %s\\nd = %s\\ne = %s\\n\" % (l,a,b,c,d,e))"
   ]
  },
  {
   "cell_type": "code",
   "execution_count": 17,
   "metadata": {},
   "outputs": [
    {
     "data": {
      "text/plain": [
       "'\\n列表的常用操作符\\n1. 等号操作符： ==\\n2. 连接操作符 +\\n3. 重复操作符 *\\n4. 成员关系操作符 in 、 not in\\n'"
      ]
     },
     "execution_count": 17,
     "metadata": {},
     "output_type": "execute_result"
    }
   ],
   "source": [
    "\"\"\"\n",
    "列表的常用操作符\n",
    "1. 等号操作符： ==\n",
    "2. 连接操作符 +\n",
    "3. 重复操作符 *\n",
    "4. 成员关系操作符 in 、 not in\n",
    "\"\"\""
   ]
  },
  {
   "cell_type": "code",
   "execution_count": 18,
   "metadata": {},
   "outputs": [
    {
     "name": "stdout",
     "output_type": "stream",
     "text": [
      "False\n",
      "True\n",
      "None\n",
      "None\n",
      "[123, 456, [456, 123], 456, 123]\n"
     ]
    }
   ],
   "source": [
    "'''\n",
    "    extend 和 append 的区别\n",
    "    append直接把()里的对象追加到list1中 -> [123, 456, [456, 123]]\n",
    "    而extend把()里的对象中的每个元素迭代地加入到list1中 -> [123, 456, 456, 123]\n",
    "'''\n",
    "list1 = [123, 456]\n",
    "list2 = [456, 123]\n",
    "list3 = [123, 456]\n",
    "\n",
    "print(list1 == list2) \n",
    "print(list1 == list3) \n",
    "print(list1.append(list2))\n",
    "print(list1.extend(list2))\n",
    "print(list1)\n"
   ]
  },
  {
   "cell_type": "code",
   "execution_count": 19,
   "metadata": {},
   "outputs": [
    {
     "name": "stdout",
     "output_type": "stream",
     "text": [
      "True\n"
     ]
    }
   ],
   "source": [
    "'''\n",
    "    list1 + list2 --> list1.extend(list2)\n",
    "    前者有返回值，后者无\n",
    "'''\n",
    "list4 = list1 + list2\n",
    "list1.extend(list2)\n",
    "list5 = list1\n",
    "print(list4 == list5)"
   ]
  },
  {
   "cell_type": "code",
   "execution_count": 20,
   "metadata": {},
   "outputs": [
    {
     "name": "stdout",
     "output_type": "stream",
     "text": [
      "[0, 0, 0]\n",
      "[0, 0, 0]\n",
      "[0, 0, 0]\n",
      "[[0, 0, 0], [0, 0, 0], [0, 0, 0]]\n",
      "[[0, 0, 0], [0, 0, 0], [0, 0, 0]]\n",
      "True\n",
      "False\n"
     ]
    }
   ],
   "source": [
    "'''\n",
    "\n",
    "'''\n",
    "list1 = [0]\n",
    "list2 = list1 * 3\n",
    "print(list2)\n",
    "list3 = [0 for i in range(3)]\n",
    "print(list3)\n",
    "print([0] * 3)\n",
    "print([[0 for i in range(3)] for j in range(3)])\n",
    "print([[0 for rows in range(3)] for cols in range(3)])\n",
    "\n",
    "print(0 in list3)\n",
    "print(1 in list5)"
   ]
  },
  {
   "cell_type": "code",
   "execution_count": 21,
   "metadata": {},
   "outputs": [
    {
     "name": "stdout",
     "output_type": "stream",
     "text": [
      "['a', 0]\n"
     ]
    }
   ],
   "source": [
    "'''\n",
    "    append, extend. insert 都无返回值\n",
    "'''\n",
    "list1.insert(0,'a')\n",
    "print(list1)"
   ]
  },
  {
   "cell_type": "code",
   "execution_count": 22,
   "metadata": {},
   "outputs": [
    {
     "name": "stdout",
     "output_type": "stream",
     "text": [
      "[(4, 1), (2, 2), (1, 3), (3, 4)]\n",
      "[(1, 3), (2, 2), (3, 4), (4, 1)]\n"
     ]
    }
   ],
   "source": [
    "'''\n",
    "    列表的其他方法\n",
    "    list.count(obj) -> 数obj出现了几次\n",
    "    list.index(x[, start[, end]]) -> 从列表中找出某个值第一个匹配项的索引位置\n",
    "    list.reverse() -> 反向列表中元素\n",
    "    list.sort(key=None, reverse=False) -> 排序\n",
    "'''\n",
    "# 获取列表的第二个元素\n",
    "def takeSecond(elem):\n",
    "    return elem[1]\n",
    "\n",
    "x = [(2, 2), (3, 4), (4, 1), (1, 3)]\n",
    "x.sort(key=takeSecond)\n",
    "print(x)\n",
    "\n",
    "x.sort(key=lambda a: a[0])\n",
    "print(x)\n"
   ]
  },
  {
   "cell_type": "code",
   "execution_count": 23,
   "metadata": {},
   "outputs": [
    {
     "name": "stdout",
     "output_type": "stream",
     "text": [
      "初始列表: [2, 5, 6, 7, 8, 9, 2, 9, 9]\n",
      "在列表的末尾增加元素15: [2, 5, 6, 7, 8, 9, 2, 9, 9, 15]\n",
      "在列表的中间位置插入元素20: [2, 5, 6, 7, 8, 20, 9, 2, 9, 9, 15]\n",
      "将列表[2, 5, 6]合并到lst中: [2, 5, 6, 7, 8, 20, 9, 2, 9, 9, 15, 2, 5, 6]\n",
      "移除列表中索引为3的元素: [2, 5, 6, 8, 20, 9, 2, 9, 9, 15, 2, 5, 6]\n",
      "翻转列表里的所有元素 [6, 5, 2, 15, 9, 9, 2, 9, 20, 8, 6, 5, 2]\n",
      "Sorting the list with descending order: [2, 2, 2, 5, 5, 6, 6, 8, 9, 9, 9, 15, 20]\n",
      "Sorting the list with Ascending order: [20, 15, 9, 9, 9, 8, 6, 6, 5, 5, 2, 2, 2]\n"
     ]
    }
   ],
   "source": [
    "\"\"\"\n",
    "    练习题\n",
    "    列表lst 内容如下\n",
    "    lst = [2, 5, 6, 7, 8, 9, 2, 9, 9]\n",
    "    请写程序完成下列操作：\n",
    "    1. 在列表的末尾增加元素15\n",
    "    2. 在列表的中间位置插入元素20\n",
    "    3. 将列表[2, 5, 6]合并到lst中\n",
    "    4. 移除列表中索引为3的元素\n",
    "    5. 翻转列表里的所有元素\n",
    "    6. 对列表里的元素进行排序，从小到大一次，从大到小一次\n",
    "\n",
    "\"\"\"\n",
    "lst = [2, 5, 6, 7, 8, 9, 2, 9, 9]\n",
    "print('初始列表:',lst)\n",
    "lst.append(15)\n",
    "print('在列表的末尾增加元素15:',lst)\n",
    "lst.insert(len(lst)//2, 20)\n",
    "print('在列表的中间位置插入元素20:',lst)\n",
    "l = [2,5,6]\n",
    "lst.extend(l)\n",
    "print('将列表[2, 5, 6]合并到lst中:',lst)\n",
    "lst.pop(3)\n",
    "print('移除列表中索引为3的元素:',lst)\n",
    "lst.reverse()\n",
    "print('翻转列表里的所有元素',lst)\n",
    "lst.sort()\n",
    "print('Sorting the list with descending order:',lst)\n",
    "lst.reverse() #lst.sort(Reverse=True)\n",
    "print('Sorting the list with Ascending order:', lst)"
   ]
  },
  {
   "cell_type": "code",
   "execution_count": 24,
   "metadata": {},
   "outputs": [
    {
     "name": "stdout",
     "output_type": "stream",
     "text": [
      "[2, [4, 6, 4, 6], 2]\n",
      "[2, [8, 12], True]\n"
     ]
    }
   ],
   "source": [
    "\"\"\"\n",
    "    2、修改列表\n",
    "    问题描述：\n",
    "    lst = [1, [4, 6], True]\n",
    "    请将列表里所有数字修改成原来的两倍\n",
    "\"\"\"\n",
    "lst = [1, [4, 6], True]\n",
    "lst = [2*i for i in lst]\n",
    "print(lst)\n",
    "\n",
    "lst = [1, [4, 6], True]\n",
    "lst[0] *= 2\n",
    "lst[1] = [ 2*i for i in lst[1]]\n",
    "print(lst)"
   ]
  },
  {
   "cell_type": "code",
   "execution_count": 25,
   "metadata": {},
   "outputs": [
    {
     "data": {
      "text/plain": [
       "1"
      ]
     },
     "execution_count": 25,
     "metadata": {},
     "output_type": "execute_result"
    }
   ],
   "source": [
    "\"\"\"\n",
    "    3、leetcode 852题 山脉数组的峰顶索引\n",
    "\n",
    "    Let's call an array A a mountain if the following properties hold:\n",
    "\n",
    "    A.length >= 3\n",
    "    There exists some 0 < i < A.length - 1 such that A[0] < A[1] < ... A[i-1] < A[i] > A[i+1] > ... > A[A.length - 1]\n",
    "    Given an array that is definitely a mountain, return any i such that A[0] < A[1] < ... A[i-1] < A[i] > A[i+1] > ... > A[A.length - 1].\n",
    "\n",
    "    Example 1:\n",
    "\n",
    "    Input: [0,1,0]\n",
    "    Output: 1\n",
    "    Example 2:\n",
    "\n",
    "    Input: [0,2,1,0]\n",
    "    Output: 1\n",
    "    Note:\n",
    "\n",
    "    3 <= A.length <= 10000\n",
    "    0 <= A[i] <= 10^6\n",
    "    A is a mountain, as defined above.\n",
    "\"\"\"\n",
    "def peakIndexInMountainArray(A):\n",
    "    i = 0\n",
    "    while(len(A)>=3):\n",
    "        if A[i] < A[i+1]:\n",
    "            i += 1\n",
    "        else:\n",
    "            return i\n",
    "    else:\n",
    "        print('Wrong input!')\n",
    "peakIndexInMountainArray([0,2,1,0])\n",
    "\n",
    "# O(n)"
   ]
  },
  {
   "cell_type": "code",
   "execution_count": 26,
   "metadata": {},
   "outputs": [
    {
     "ename": "KeyboardInterrupt",
     "evalue": "",
     "output_type": "error",
     "traceback": [
      "\u001b[1;31m---------------------------------------------------------------------------\u001b[0m",
      "\u001b[1;31mKeyboardInterrupt\u001b[0m                         Traceback (most recent call last)",
      "\u001b[1;32m<ipython-input-26-5e3ce0dbdae9>\u001b[0m in \u001b[0;36m<module>\u001b[1;34m\u001b[0m\n\u001b[0;32m     10\u001b[0m     \u001b[1;32melse\u001b[0m\u001b[1;33m:\u001b[0m\u001b[1;33m\u001b[0m\u001b[1;33m\u001b[0m\u001b[0m\n\u001b[0;32m     11\u001b[0m         \u001b[0mprint\u001b[0m\u001b[1;33m(\u001b[0m\u001b[1;34m'Wrong input!'\u001b[0m\u001b[1;33m)\u001b[0m\u001b[1;33m\u001b[0m\u001b[1;33m\u001b[0m\u001b[0m\n\u001b[1;32m---> 12\u001b[1;33m \u001b[0mpeakIndexInMountainArray\u001b[0m\u001b[1;33m(\u001b[0m\u001b[1;33m[\u001b[0m\u001b[1;36m0\u001b[0m\u001b[1;33m,\u001b[0m\u001b[1;36m2\u001b[0m\u001b[1;33m,\u001b[0m\u001b[1;36m1\u001b[0m\u001b[1;33m,\u001b[0m\u001b[1;36m0\u001b[0m\u001b[1;33m]\u001b[0m\u001b[1;33m)\u001b[0m\u001b[1;33m\u001b[0m\u001b[1;33m\u001b[0m\u001b[0m\n\u001b[0m",
      "\u001b[1;32m<ipython-input-26-5e3ce0dbdae9>\u001b[0m in \u001b[0;36mpeakIndexInMountainArray\u001b[1;34m(A)\u001b[0m\n\u001b[0;32m      2\u001b[0m     \u001b[0mi\u001b[0m \u001b[1;33m=\u001b[0m \u001b[0mlen\u001b[0m\u001b[1;33m(\u001b[0m\u001b[0mA\u001b[0m\u001b[1;33m)\u001b[0m\u001b[1;33m//\u001b[0m\u001b[1;36m2\u001b[0m\u001b[1;33m\u001b[0m\u001b[1;33m\u001b[0m\u001b[0m\n\u001b[0;32m      3\u001b[0m     \u001b[1;32mwhile\u001b[0m\u001b[1;33m(\u001b[0m\u001b[0mlen\u001b[0m\u001b[1;33m(\u001b[0m\u001b[0mA\u001b[0m\u001b[1;33m)\u001b[0m\u001b[1;33m>=\u001b[0m\u001b[1;36m3\u001b[0m\u001b[1;33m)\u001b[0m\u001b[1;33m:\u001b[0m\u001b[1;33m\u001b[0m\u001b[1;33m\u001b[0m\u001b[0m\n\u001b[1;32m----> 4\u001b[1;33m         \u001b[1;32mif\u001b[0m \u001b[0mA\u001b[0m\u001b[1;33m[\u001b[0m\u001b[0mi\u001b[0m\u001b[1;33m]\u001b[0m \u001b[1;33m>\u001b[0m \u001b[0mA\u001b[0m\u001b[1;33m[\u001b[0m\u001b[0mi\u001b[0m\u001b[1;33m+\u001b[0m\u001b[1;36m1\u001b[0m\u001b[1;33m]\u001b[0m \u001b[1;33m&\u001b[0m \u001b[0mA\u001b[0m\u001b[1;33m[\u001b[0m\u001b[0mi\u001b[0m\u001b[1;33m]\u001b[0m \u001b[1;33m>\u001b[0m \u001b[0mA\u001b[0m\u001b[1;33m[\u001b[0m\u001b[0mi\u001b[0m\u001b[1;33m-\u001b[0m\u001b[1;36m1\u001b[0m\u001b[1;33m]\u001b[0m\u001b[1;33m:\u001b[0m\u001b[1;33m\u001b[0m\u001b[1;33m\u001b[0m\u001b[0m\n\u001b[0m\u001b[0;32m      5\u001b[0m             \u001b[1;32mreturn\u001b[0m \u001b[0mi\u001b[0m\u001b[1;33m\u001b[0m\u001b[1;33m\u001b[0m\u001b[0m\n\u001b[0;32m      6\u001b[0m         \u001b[1;32melif\u001b[0m \u001b[0mA\u001b[0m\u001b[1;33m[\u001b[0m\u001b[0mi\u001b[0m\u001b[1;33m]\u001b[0m \u001b[1;33m>\u001b[0m \u001b[0mA\u001b[0m\u001b[1;33m[\u001b[0m\u001b[0mi\u001b[0m\u001b[1;33m+\u001b[0m\u001b[1;36m1\u001b[0m\u001b[1;33m]\u001b[0m \u001b[1;33m&\u001b[0m \u001b[0mA\u001b[0m\u001b[1;33m[\u001b[0m\u001b[0mi\u001b[0m\u001b[1;33m]\u001b[0m \u001b[1;33m<\u001b[0m \u001b[0mA\u001b[0m\u001b[1;33m[\u001b[0m\u001b[0mi\u001b[0m\u001b[1;33m-\u001b[0m\u001b[1;36m1\u001b[0m\u001b[1;33m]\u001b[0m\u001b[1;33m:\u001b[0m\u001b[1;33m\u001b[0m\u001b[1;33m\u001b[0m\u001b[0m\n",
      "\u001b[1;31mKeyboardInterrupt\u001b[0m: "
     ]
    }
   ],
   "source": [
    "def peakIndexInMountainArray(A) -> int:\n",
    "    i = len(A)//2\n",
    "    while(len(A)>=3):\n",
    "        if A[i] > A[i+1] & A[i] > A[i-1]:\n",
    "            return i\n",
    "        elif A[i] > A[i+1] & A[i] < A[i-1]:\n",
    "            i -= 1\n",
    "        else:\n",
    "            i += 1  \n",
    "    else:\n",
    "        print('Wrong input!')\n",
    "peakIndexInMountainArray([0,2,1,0])\n",
    "# 不知道哪里有点问题"
   ]
  },
  {
   "cell_type": "code",
   "execution_count": null,
   "metadata": {},
   "outputs": [],
   "source": []
  }
 ],
 "metadata": {
  "kernelspec": {
   "display_name": "Python 3",
   "language": "python",
   "name": "python3"
  },
  "language_info": {
   "codemirror_mode": {
    "name": "ipython",
    "version": 3
   },
   "file_extension": ".py",
   "mimetype": "text/x-python",
   "name": "python",
   "nbconvert_exporter": "python",
   "pygments_lexer": "ipython3",
   "version": "3.7.7"
  }
 },
 "nbformat": 4,
 "nbformat_minor": 4
}
