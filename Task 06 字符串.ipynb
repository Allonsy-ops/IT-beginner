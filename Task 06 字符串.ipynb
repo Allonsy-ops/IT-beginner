{
 "cells": [
  {
   "cell_type": "code",
   "execution_count": 1,
   "metadata": {},
   "outputs": [
    {
     "name": "stdout",
     "output_type": "stream",
     "text": [
      "'\n",
      "aaa\n",
      "aaa\n",
      "bbb\tbbb\n",
      "ccc\r",
      "ccc\n",
      "\\n\n",
      "aaa\r\n",
      "aaa\n",
      "cc\bccc\n"
     ]
    }
   ],
   "source": [
    "'''\n",
    "    如果字符串中需要出现单引号或双引号，可以使用转义字符 \\ 对字符串中的符号进行转义\n",
    "'''\n",
    "print('\\'')\n",
    "print('aaa\\naaa')\n",
    "print('bbb\\tbbb')\n",
    "print('ccc\\rccc') # \\r 换行，光标在上一行\n",
    "print('\\\\n') # \\\\  只打印一个\\\n",
    "print('aaa\\r\\naaa')\n",
    "print('cc\\bccc') # \\b 退格"
   ]
  },
  {
   "cell_type": "code",
   "execution_count": 2,
   "metadata": {},
   "outputs": [
    {
     "name": "stdout",
     "output_type": "stream",
     "text": [
      "这是一个多行字符串的实例\n",
      "多行字符串可以使用制表符\n",
      "TAB ( \t )。\n",
      "也可以使用换行符 [ \n",
      " ]。\n",
      "\n"
     ]
    }
   ],
   "source": [
    "para_str = \"\"\"这是一个多行字符串的实例\n",
    "多行字符串可以使用制表符\n",
    "TAB ( \\t )。\n",
    "也可以使用换行符 [ \\n ]。\n",
    "\"\"\"\n",
    "\n",
    "print (para_str)"
   ]
  },
  {
   "cell_type": "code",
   "execution_count": 3,
   "metadata": {},
   "outputs": [
    {
     "data": {
      "text/plain": [
       "'\\n    1. 像元组一样不可修改\\n    2. 可切片 slicing\\n'"
      ]
     },
     "execution_count": 3,
     "metadata": {},
     "output_type": "execute_result"
    }
   ],
   "source": [
    "'''\n",
    "    1. 像元组一样不可修改\n",
    "    2. 可切片 slicing\n",
    "'''\n"
   ]
  },
  {
   "cell_type": "code",
   "execution_count": 4,
   "metadata": {},
   "outputs": [
    {
     "name": "stdout",
     "output_type": "stream",
     "text": [
      "i love python\n",
      "I LOVE PYTHON\n",
      "I love python\n",
      "i LOVE pYTHON\n",
      "0\n"
     ]
    }
   ],
   "source": [
    "\"\"\"\n",
    "    built-in method\n",
    "    \n",
    "    str.lower()\n",
    "    str.capitalize()\n",
    "    str.upper()\n",
    "    str.swapcase()\n",
    "    str.count(str, beg= 0,end=len(string)) -> 返回 str 在 string 里面出现的次数，如果 beg 或者 end 指定则返回指定范围内 str 出现的次数\n",
    "    \n",
    "\"\"\"\n",
    "str = 'I love Python'\n",
    "print(str.lower())\n",
    "print(str.upper())\n",
    "print(str.capitalize())\n",
    "print(str.swapcase())\n",
    "print(str.count('i'))"
   ]
  },
  {
   "cell_type": "code",
   "execution_count": 5,
   "metadata": {},
   "outputs": [
    {
     "name": "stdout",
     "output_type": "stream",
     "text": [
      "True\n",
      "False\n",
      "2\n",
      "6\n",
      "-1\n"
     ]
    }
   ],
   "source": [
    "\"\"\"\n",
    "    str.endswith(suffix, beg=0, end=len(string)) -> 检查字符串是否以指定子字符串 suffix 结束，如果是，返回 True,否则返回 False。如果 beg 和 end 指定值，则在指定范围内检查。\n",
    "    str.startswith(substr, beg=0,end=len(string)) -> 检查字符串是否以指定子字符串 substr 开头，如果是，返回 True，否则返回 False。如果 beg 和 end 指定值，则在指定范围内检查。\n",
    "    str.find(str, beg=0, end=len(string)) -> 检测 str 是否包含在字符串中，如果指定范围 beg 和 end ，则检查是否包含在指定范围内，如果包含，返回开始的索引值，否则返回 -1。\n",
    "    str.rfind(str, beg=0,end=len(string))-> 类似于 find() 函数，不过是从右边开始查找。\n",
    "\"\"\"\n",
    "str1 = 'afflixflix'\n",
    "print(str1.endswith('lix'))\n",
    "print(str1.startswith('eff'))\n",
    "print(str1.find('flix'))\n",
    "print(str1.rfind('flix'))\n",
    "print(str1.rfind('xil')) # 从右边开始查找，并不是从右边倒序查找"
   ]
  },
  {
   "cell_type": "code",
   "execution_count": 6,
   "metadata": {},
   "outputs": [
    {
     "name": "stdout",
     "output_type": "stream",
     "text": [
      "True\n",
      "00001101\n",
      "1300000\n"
     ]
    }
   ],
   "source": [
    "\"\"\"\n",
    "    str.isnumeric() -> 如果字符串中只包含数字字符，则返回 True，否则返回 False。\n",
    "    \n",
    "    str.ljust(width[, fillchar]) 返回一个原字符串左对齐，并使用 fillchar （默认空格）填充至长度 width的新字符串。\n",
    "    str.rjust(width[, fillchar]) 返回一个原字符串右对齐，并使用 fillchar （默认空格）填充至长度 width的新字符串。\n",
    "\"\"\"\n",
    "phone = '0401003680'\n",
    "print(phone.isnumeric())\n",
    "\n",
    "bi = '1101'\n",
    "print(bi.rjust(8,'0')) # 输出 binary 的方法\n",
    "\n",
    "num = '13万'\n",
    "if num[-1] == '万':\n",
    "    print(num[:-1].ljust(len(num) + 4, '0'))"
   ]
  },
  {
   "cell_type": "code",
   "execution_count": 7,
   "metadata": {},
   "outputs": [
    {
     "name": "stdout",
     "output_type": "stream",
     "text": [
      "401003680\n",
      "040100368\n",
      "40100368\n"
     ]
    }
   ],
   "source": [
    "\"\"\"\n",
    "    str.lstrip([chars]) 截掉字符串左边的空格或指定字符。\n",
    "    str.rstrip([chars]) 删除字符串末尾的空格或指定字符。\n",
    "    str.strip([chars]) 在字符串上执行 lstrip() 和 rstrip()。\n",
    "\"\"\"\n",
    "phone  ='0401003680'\n",
    "print(phone.lstrip('0'))\n",
    "print(phone.rstrip('0'))\n",
    "print(phone.strip('0'))"
   ]
  },
  {
   "cell_type": "code",
   "execution_count": 8,
   "metadata": {},
   "outputs": [
    {
     "name": "stdout",
     "output_type": "stream",
     "text": [
      "Name is James Smith\n"
     ]
    }
   ],
   "source": [
    "\"\"\"\n",
    "    str.partition(sub) 找到子字符串sub，把字符串分为一个三元组 (pre_sub,sub,fol_sub) ，如果字符串中不包含sub则返回 ('原字符串','','') 。\n",
    "    str.rpartition(sub) 类似于 partition() 方法，不过是从右边开始查找。\n",
    "    \n",
    "    根据substring，把原字符串分割成sub，sub左和sub右三部分\n",
    "\"\"\"\n",
    "\n",
    "str = 'Name : James Smith' # 得到的是一个tuple\n",
    "type,_,info = str.partition(':')\n",
    "type = type.strip()\n",
    "info = info.strip()\n",
    "print(type, 'is',info)"
   ]
  },
  {
   "cell_type": "code",
   "execution_count": 9,
   "metadata": {},
   "outputs": [
    {
     "name": "stdout",
     "output_type": "stream",
     "text": [
      "我滴家在黑土高坡\n",
      "['0401003680', '0401003590', '0405008927']\n"
     ]
    }
   ],
   "source": [
    "\"\"\"\n",
    "\n",
    "    str.replace(old, new [, max]) 把 将字符串中的 old 替换成 new ，如果 max 指定，则替换不超过 max 次。\n",
    "    \n",
    "    str.split(str=\"\", num) 不带参数默认是以空格为分隔符切片字符串，如果 num 参数有设置，则仅分隔 num 个子字符串，返回切片后的子字符串拼接的列表。\n",
    "\"\"\"\n",
    "\n",
    "str = '我滴家在黄土高坡'\n",
    "str = str.replace('黄','黑')\n",
    "print(str)\n",
    "\n",
    "str = '0401003680 0401003590 0405008927'\n",
    "\n",
    "phone = str.split(' ')\n",
    "print(phone)"
   ]
  },
  {
   "cell_type": "code",
   "execution_count": 10,
   "metadata": {},
   "outputs": [
    {
     "name": "stdout",
     "output_type": "stream",
     "text": [
      "{97: 49, 101: 50, 105: 51, 111: 52, 117: 53}\n",
      "th3s 3s str3ng 2x1mpl2....w4w!!!\n"
     ]
    }
   ],
   "source": [
    "\"\"\"\n",
    "    str.splitlines([keepends]) 按照行('\\r', '\\r\\n', \\n')分隔，返回一个包含各行作为元素的列表，如果参数 keepends 为 False，不包含换行符，如果为 True，则保留换行符。\n",
    "    这个不知道有啥用啊\n",
    "    \n",
    "    str.maketrans(intab, outtab) 创建字符映射的转换表，第一个参数是字符串，表示需要转换的字符，第二个参数也是字符串表示转换的目标。\n",
    "    \n",
    "    \n",
    "    str.translate(table, deletechars=\"\") 根据参数 table 给出的表，转换字符串的字符，要过滤掉的字符放到 deletechars 参数中。\n",
    "\"\"\"\n",
    "str = 'this is string example....wow!!!'\n",
    "intab = 'aeiou'\n",
    "outtab = '12345'\n",
    "trantab = str.maketrans(intab, outtab)\n",
    "print(trantab) \n",
    "print(str.translate(trantab)) \n",
    "# 想不出来有什么情景可以用到，但感觉很实用"
   ]
  },
  {
   "cell_type": "code",
   "execution_count": 11,
   "metadata": {},
   "outputs": [
    {
     "name": "stdout",
     "output_type": "stream",
     "text": [
      "I Love Lsgogroup\n",
      "I Love Lsgogroup\n",
      "I Love Lsgogroup\n",
      "27.66GB\n"
     ]
    }
   ],
   "source": [
    "\"\"\"\n",
    "    字符串格式化\n",
    "    \n",
    "\"\"\"\n",
    "str = \"{0} Love {1}\".format('I', 'Lsgogroup') # 位置参数\n",
    "print(str) # I Love Lsgogroup\n",
    "\n",
    "str = \"{a} Love {b}\".format(a='I', b='Lsgogroup') # 关键字参数\n",
    "print(str) # I Love Lsgogroup\n",
    "\n",
    "str = \"{0} Love {b}\".format('I', b='Lsgogroup') # 位置参数要在关键字参数之前\n",
    "print(str) # I Love Lsgogroup\n",
    "\n",
    "str = '{0:.2f}{1}'.format(27.658, 'GB') # 保留小数点后两位\n",
    "print(str) # 27.66GB\n"
   ]
  },
  {
   "cell_type": "code",
   "execution_count": 12,
   "metadata": {},
   "outputs": [
    {
     "data": {
      "text/plain": [
       "\"\\n1. str.replace('old_str','new_str')\\n2.str.split(' ')\\n3.str = str.lstrip()\\n\""
      ]
     },
     "execution_count": 12,
     "metadata": {},
     "output_type": "execute_result"
    }
   ],
   "source": [
    "\"\"\"\n",
    "1、字符串函数回顾\n",
    "1. 怎么批量替换字符串中的元素？\n",
    "2. 怎么把字符串按照空格进⾏拆分？\n",
    "3. 怎么去除字符串⾸位的空格？\n",
    "\n",
    "\"\"\"\n",
    "\"\"\"\n",
    "1. str.replace('old_str','new_str')\n",
    "2.str.split(' ')\n",
    "3.str = str.lstrip()\n",
    "\"\"\""
   ]
  },
  {
   "cell_type": "code",
   "execution_count": 13,
   "metadata": {},
   "outputs": [
    {
     "name": "stdout",
     "output_type": "stream",
     "text": [
      "True\n",
      "False\n"
     ]
    }
   ],
   "source": [
    "'''\n",
    "2、实现isdigit函数\n",
    "题目要求\n",
    "实现函数isdigit， 判断字符串里是否只包含数字0~9\n",
    "\n",
    "'''\n",
    "def isdigit(string):\n",
    "    \"\"\"\n",
    "    判断字符串只包含数字\n",
    "    :param string:\n",
    "    :return:\n",
    "    \"\"\"\n",
    "    return string.isnumeric()\n",
    "print(isdigit('040103680'))\n",
    "print(isdigit('04010368a'))"
   ]
  },
  {
   "cell_type": "code",
   "execution_count": null,
   "metadata": {},
   "outputs": [
    {
     "name": "stdout",
     "output_type": "stream",
     "text": [
      "bab\n"
     ]
    }
   ],
   "source": [
    "\"\"\"\n",
    "3、leetcode 5题 最长回文子串\n",
    "给定一个字符串 s ，找到 s 中最长的回文子串。你可以假设 s 的最大长度为 1000。\n",
    "示例:\n",
    "输入: \"babad\"\n",
    "输出: \"bab\"\n",
    "输入: \"cbbd\"\n",
    "输出: \"bb\"\n",
    "\"\"\"\n",
    "def longestPalindrome(s): # 简单版\n",
    "    if(len(s)%2 != 0):\n",
    "        for i in range(1,len(s)):\n",
    "            if (s[i+1] == s[i-1]):\n",
    "                str = s[i-1] + s[i] + s[i+1]\n",
    "                break\n",
    "                \n",
    "    else:\n",
    "        for i in range(len(s)):\n",
    "            if (s[i] == s[i+1]):\n",
    "                str =  s[i] + s[i+1]\n",
    "                break\n",
    "                \n",
    "    left, _, right = s.partition(str)\n",
    "    print(str)\n",
    "    while(left):\n",
    "        if(left[-1] == right[0]):\n",
    "            str = left[-1]+ str + right[0]\n",
    "            left = left[:-1]\n",
    "            right = right[1:]\n",
    "    return str\n",
    "\n",
    "\n",
    "print(longestPalindrome('babad'))\n",
    "print(longestPalindrome('cbbd'))"
   ]
  },
  {
   "cell_type": "code",
   "execution_count": null,
   "metadata": {},
   "outputs": [],
   "source": []
  }
 ],
 "metadata": {
  "kernelspec": {
   "display_name": "Python 3",
   "language": "python",
   "name": "python3"
  },
  "language_info": {
   "codemirror_mode": {
    "name": "ipython",
    "version": 3
   },
   "file_extension": ".py",
   "mimetype": "text/x-python",
   "name": "python",
   "nbconvert_exporter": "python",
   "pygments_lexer": "ipython3",
   "version": "3.7.7"
  }
 },
 "nbformat": 4,
 "nbformat_minor": 4
}
