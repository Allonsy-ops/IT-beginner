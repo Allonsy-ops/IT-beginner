{
 "cells": [
  {
   "cell_type": "code",
   "execution_count": 1,
   "metadata": {},
   "outputs": [],
   "source": [
    "#  1. 注释\n",
    "#  单行注释 -> // in Java\n",
    "\"\"\"\n",
    "    Author: Kaye Wu\n",
    "    Project: 多行注释\n",
    "\"\"\"\n",
    "'''\n",
    "    Author: Kaye Wu\n",
    "    Project: single quotation marks work the same\n",
    "'''"
   ]
  },
  {
   "cell_type": "code",
   "execution_count": 29,
   "metadata": {},
   "outputs": [
    {
     "name": "stdout",
     "output_type": "stream",
     "text": [
      "a plus b equals: 5.9\n",
      "a minus b is equal to: -0.8999999999999999\n",
      "a minus b is approximately equal to -1\n",
      "a times b equals： 8.5\n",
      "a divided by b equals to 0.7352941176470589\n",
      "a floor divided by b equals to 0.0\n"
     ]
    }
   ],
   "source": [
    "# 2.运算符\n",
    "\n",
    "a = 2.5\n",
    "b = 3.4\n",
    "print(\"a plus b equals:\",a+b)\n",
    "print(\"a minus b is equal to: \"+str(a-b))\n",
    "print(\"a minus b is approximately equal to\",round(a-b))\n",
    "print(\"a times b equals：\",str(a*b))\n",
    "print(\"a divided by b equals to\",a/b )\n",
    "print(\"a floor divided by b equals to\",a//b ) # // ->floor division: 地板除，返回余数的整数部分\n"
   ]
  },
  {
   "cell_type": "code",
   "execution_count": 34,
   "metadata": {},
   "outputs": [
    {
     "name": "stdout",
     "output_type": "stream",
     "text": [
      "1\n",
      "-2\n",
      "-2\n",
      "1\n"
     ]
    }
   ],
   "source": [
    "# 整除，默认向下取整\n",
    "print(5 // 3)\n",
    "print(5 // -3)\n",
    "print(-5 // 3)\n",
    "print(-5 // -3)"
   ]
  },
  {
   "cell_type": "code",
   "execution_count": 35,
   "metadata": {},
   "outputs": [
    {
     "name": "stdout",
     "output_type": "stream",
     "text": [
      "2\n",
      "-1\n",
      "1\n",
      "-2\n"
     ]
    }
   ],
   "source": [
    "# modulo operation\n",
    "print(5 % 3)\n",
    "print(5 % -3)\n",
    "print(-5 % 3)\n",
    "print(-5 % -3)"
   ]
  },
  {
   "cell_type": "code",
   "execution_count": null,
   "metadata": {},
   "outputs": [],
   "source": [
    "# 取模与取余\n",
    "'''\n",
    "    Note: the modulo operation are different in python and the language like java.\n",
    "    Although the same equation: a % b = a - b * (a / b)\n",
    "    For the a / b part, python reach for the result from negetive infinity while java get it from zero.\n",
    "    Thus, python has 'true' modulus and java get the remainder\n",
    "'''\n",
    "\n",
    "\"\"\"\n",
    "    For example the results in java are:\n",
    "        System.out.println(5 % 3); -> 2\n",
    "        System.out.println(5 % -3); -> 2\n",
    "        System.out.println(-5 % 3); -> -2\n",
    "        System.out.println(-5 % -3); -> -2\n",
    "    The result in python has the same sign with divisor and  the remainder in java has the same sign with dividend.\n",
    "\"\"\""
   ]
  },
  {
   "cell_type": "code",
   "execution_count": 46,
   "metadata": {},
   "outputs": [
    {
     "name": "stdout",
     "output_type": "stream",
     "text": [
      "True\n",
      "False\n"
     ]
    }
   ],
   "source": [
    "# boolean number 布尔数\n",
    "print(True | False) #  true \\\\ false in Java\n",
    "print(True & False) #  true && false in Java"
   ]
  },
  {
   "cell_type": "code",
   "execution_count": 80,
   "metadata": {},
   "outputs": [
    {
     "name": "stdout",
     "output_type": "stream",
     "text": [
      "5\n",
      "5\n",
      "True\n",
      "7\n",
      "True\n",
      "False\n"
     ]
    }
   ],
   "source": [
    "# 逻辑运算符\n",
    "print(5 or 7)\n",
    "print(5 or True)\n",
    "print(True or 5)\n",
    "print(5 and 7)\n",
    "print(5 and True)\n",
    "print(not 7)"
   ]
  },
  {
   "cell_type": "code",
   "execution_count": 53,
   "metadata": {},
   "outputs": [
    {
     "data": {
      "text/plain": [
       "-5"
      ]
     },
     "execution_count": 53,
     "metadata": {},
     "output_type": "execute_result"
    }
   ],
   "source": [
    "# 位运算符\n",
    "'''\n",
    "    COMPLMENT(~)  tilde operator 按位取反 0变1，1变0\n",
    "    \n",
    "    数字转化为二进制后取反，得到1's complment\n",
    "    该数字的 2's complement = 1's complement + 1\n",
    "    再取反得到结果\n",
    "    \n",
    "    The complement of any number == -(this number + 1)\n",
    "'''\n",
    "\n",
    "~4"
   ]
  },
  {
   "cell_type": "code",
   "execution_count": 61,
   "metadata": {},
   "outputs": [
    {
     "data": {
      "text/plain": [
       "23423"
      ]
     },
     "execution_count": 61,
     "metadata": {},
     "output_type": "execute_result"
    }
   ],
   "source": [
    "~-23424"
   ]
  },
  {
   "cell_type": "code",
   "execution_count": 49,
   "metadata": {},
   "outputs": [
    {
     "data": {
      "text/plain": [
       "4"
      ]
     },
     "execution_count": 49,
     "metadata": {},
     "output_type": "execute_result"
    }
   ],
   "source": [
    "'''\n",
    "    AND OPERATOR\n",
    "    a & b -> 得到两数的binary format, 在每位同时为1时，a & b的该位才为1，否则为0\n",
    "''' \n",
    "4 & 5"
   ]
  },
  {
   "cell_type": "code",
   "execution_count": 50,
   "metadata": {},
   "outputs": [
    {
     "data": {
      "text/plain": [
       "5"
      ]
     },
     "execution_count": 50,
     "metadata": {},
     "output_type": "execute_result"
    }
   ],
   "source": [
    "'''\n",
    "    OR OPERATOR\n",
    "    a | b -> 在每位同时为0时，a | b的该位才为0，否则为1\n",
    "'''\n",
    "4 | 5"
   ]
  },
  {
   "cell_type": "code",
   "execution_count": 66,
   "metadata": {},
   "outputs": [
    {
     "data": {
      "text/plain": [
       "2"
      ]
     },
     "execution_count": 66,
     "metadata": {},
     "output_type": "execute_result"
    }
   ],
   "source": [
    "'''\n",
    "    XOR OPERATOR\n",
    "    a ^ b -> 在每位不同时，a ^ b的该位才为1，否则为0\n",
    "    Rules:  a ^ a = 0\n",
    "            a ^ 0 = a\n",
    "'''\n",
    "4 ^ 6"
   ]
  },
  {
   "cell_type": "code",
   "execution_count": 68,
   "metadata": {},
   "outputs": [
    {
     "data": {
      "text/plain": [
       "12"
      ]
     },
     "execution_count": 68,
     "metadata": {},
     "output_type": "execute_result"
    }
   ],
   "source": [
    "'''\n",
    "    LEFT SHIFT OPERATOR\n",
    "    a<<b -> 转换为二进制后,(a)2 向左移动b位，空余填0\n",
    "'''\n",
    "3<<2"
   ]
  },
  {
   "cell_type": "code",
   "execution_count": 70,
   "metadata": {},
   "outputs": [
    {
     "data": {
      "text/plain": [
       "3"
      ]
     },
     "execution_count": 70,
     "metadata": {},
     "output_type": "execute_result"
    }
   ],
   "source": [
    "'''\n",
    "    RIGHT SHIFT OPERATOR\n",
    "    a>>b -> 转换为二进制后,(a)2 右边的b位舍去\n",
    "'''\n",
    "13>>2"
   ]
  },
  {
   "cell_type": "code",
   "execution_count": 81,
   "metadata": {},
   "outputs": [
    {
     "name": "stdout",
     "output_type": "stream",
     "text": [
      "7\n",
      "5\n",
      "True\n",
      "5\n",
      "5\n",
      "5\n",
      "False\n"
     ]
    }
   ],
   "source": [
    "# BITWISE OPERATOR AND LOGICAL OPERATOR\n",
    "print(5 and 7)\n",
    "print(5 & 7)\n",
    "print(5 and True)\n",
    "print(5 or 7)\n",
    "print(5 or False)\n",
    "print(False or 5)\n",
    "print(False and 5)"
   ]
  },
  {
   "cell_type": "code",
   "execution_count": 88,
   "metadata": {},
   "outputs": [
    {
     "name": "stdout",
     "output_type": "stream",
     "text": [
      "3\n",
      "3 4 False\n"
     ]
    }
   ],
   "source": [
    "# 三元运算符\n",
    "x = 3\n",
    "y = 4\n",
    "small = x if x<y else y\n",
    "print(small)\n",
    "print(x,y,x==y)"
   ]
  },
  {
   "cell_type": "code",
   "execution_count": 86,
   "metadata": {},
   "outputs": [
    {
     "name": "stdout",
     "output_type": "stream",
     "text": [
      "False\n",
      "True\n",
      "True\n",
      "False\n"
     ]
    }
   ],
   "source": [
    "# 其他运算符\n",
    "'''\n",
    "    in / not in 比较的两个变量的内存地址\n",
    "    == / ！= 比较的是两个变量的值\n",
    "    如果比较地址不可变类型(str int)两者等价\n",
    "    如果比较地址可变类型(list/ dict/ tuple) 有区别\n",
    "'''\n",
    "print(3 is 5)\n",
    "print(3 is not 5)\n",
    "print(3 in [1,2,3])\n",
    "print(3 not in {1,2,3})"
   ]
  },
  {
   "cell_type": "code",
   "execution_count": 90,
   "metadata": {},
   "outputs": [
    {
     "name": "stdout",
     "output_type": "stream",
     "text": [
      "-21.5\n"
     ]
    }
   ],
   "source": [
    "'''\n",
    "    OPERATOR PREDENDENCE\n",
    "    1. ** Exponent\n",
    "    2. ~, +, - Complement, Unary plus, Unary minus\n",
    "    3. *, /, %, // Multiplication, Division, Modulo, Floor Division\n",
    "    4. +, - Addition, Subtraction\n",
    "    5. <<. >> Left shift, Right shift\n",
    "    6. & Bitwise And\n",
    "    7. |, ^ Bitwise OR, Bitwise XOR\n",
    "    8. >, <, >=, <= Comparion Operators\n",
    "    9. ==, != Equality Operators\n",
    "    10. =, +=, *=, -=... Assignment Operators\n",
    "    11. is, is not Identity Operators\n",
    "    12. in, not in  Membership Operators\n",
    "    13. and, or, not Logical Operators\n",
    "    \n",
    "    一元运算符优先于二元运算符\n",
    "    x元运算符：x个数参与计算\n",
    "    一元运算符有：~/ +（positive sign）/ -（negetive sign）\n",
    "'''\n",
    "# - 9 - 6 - 2.5 - 4\n",
    "print(-3 ** 2 - 3 * 2 + 5 / -2 - 4)"
   ]
  },
  {
   "cell_type": "code",
   "execution_count": 91,
   "metadata": {},
   "outputs": [
    {
     "name": "stdout",
     "output_type": "stream",
     "text": [
      "hello world\n"
     ]
    }
   ],
   "source": [
    "str1 = 'hello '\n",
    "str2 = 'world'\n",
    "print(str1+str2)"
   ]
  },
  {
   "cell_type": "code",
   "execution_count": 92,
   "metadata": {},
   "outputs": [
    {
     "name": "stdout",
     "output_type": "stream",
     "text": [
      "hello  <class 'str'>\n"
     ]
    }
   ],
   "source": [
    "print(str1, type(str1))"
   ]
  },
  {
   "cell_type": "code",
   "execution_count": 93,
   "metadata": {},
   "outputs": [
    {
     "name": "stdout",
     "output_type": "stream",
     "text": [
      "['__add__', '__class__', '__contains__', '__delattr__', '__dir__', '__doc__', '__eq__', '__format__', '__ge__', '__getattribute__', '__getitem__', '__getnewargs__', '__gt__', '__hash__', '__init__', '__init_subclass__', '__iter__', '__le__', '__len__', '__lt__', '__mod__', '__mul__', '__ne__', '__new__', '__reduce__', '__reduce_ex__', '__repr__', '__rmod__', '__rmul__', '__setattr__', '__sizeof__', '__str__', '__subclasshook__', 'capitalize', 'casefold', 'center', 'count', 'encode', 'endswith', 'expandtabs', 'find', 'format', 'format_map', 'index', 'isalnum', 'isalpha', 'isascii', 'isdecimal', 'isdigit', 'isidentifier', 'islower', 'isnumeric', 'isprintable', 'isspace', 'istitle', 'isupper', 'join', 'ljust', 'lower', 'lstrip', 'maketrans', 'partition', 'replace', 'rfind', 'rindex', 'rjust', 'rpartition', 'rsplit', 'rstrip', 'split', 'splitlines', 'startswith', 'strip', 'swapcase', 'title', 'translate', 'upper', 'zfill']\n"
     ]
    }
   ],
   "source": [
    "print(dir(str))"
   ]
  },
  {
   "cell_type": "code",
   "execution_count": 97,
   "metadata": {},
   "outputs": [
    {
     "data": {
      "text/plain": [
       "'hello h'"
      ]
     },
     "execution_count": 97,
     "metadata": {},
     "output_type": "execute_result"
    }
   ],
   "source": [
    "str1.__add__('h')"
   ]
  },
  {
   "cell_type": "code",
   "execution_count": 98,
   "metadata": {},
   "outputs": [
    {
     "data": {
      "text/plain": [
       "'HELLO '"
      ]
     },
     "execution_count": 98,
     "metadata": {},
     "output_type": "execute_result"
    }
   ],
   "source": [
    "str1.upper()"
   ]
  },
  {
   "cell_type": "code",
   "execution_count": 106,
   "metadata": {},
   "outputs": [
    {
     "name": "stdout",
     "output_type": "stream",
     "text": [
      "['BasicContext', 'Clamped', 'Context', 'ConversionSyntax', 'Decimal', 'DecimalException', 'DecimalTuple', 'DefaultContext', 'DivisionByZero', 'DivisionImpossible', 'DivisionUndefined', 'ExtendedContext', 'FloatOperation', 'HAVE_CONTEXTVAR', 'HAVE_THREADS', 'Inexact', 'InvalidContext', 'InvalidOperation', 'MAX_EMAX', 'MAX_PREC', 'MIN_EMIN', 'MIN_ETINY', 'Overflow', 'ROUND_05UP', 'ROUND_CEILING', 'ROUND_DOWN', 'ROUND_FLOOR', 'ROUND_HALF_DOWN', 'ROUND_HALF_EVEN', 'ROUND_HALF_UP', 'ROUND_UP', 'Rounded', 'Subnormal', 'Underflow', '__builtins__', '__cached__', '__doc__', '__file__', '__libmpdec_version__', '__loader__', '__name__', '__package__', '__spec__', '__version__', 'getcontext', 'localcontext', 'setcontext']\n"
     ]
    }
   ],
   "source": [
    "from decimal import Decimal\n",
    "print(dir(decimal))"
   ]
  },
  {
   "cell_type": "code",
   "execution_count": 107,
   "metadata": {},
   "outputs": [
    {
     "name": "stdout",
     "output_type": "stream",
     "text": [
      "Context(prec=28, rounding=ROUND_HALF_EVEN, Emin=-999999, Emax=999999, capitals=1, clamp=0, flags=[], traps=[InvalidOperation, DivisionByZero, Overflow])\n"
     ]
    }
   ],
   "source": [
    "print(decimal.getcontext())"
   ]
  },
  {
   "cell_type": "code",
   "execution_count": 113,
   "metadata": {},
   "outputs": [
    {
     "data": {
      "text/plain": [
       "Decimal('0.3333333333333333333333333333')"
      ]
     },
     "execution_count": 113,
     "metadata": {},
     "output_type": "execute_result"
    }
   ],
   "source": [
    "a = Decimal(1)\n",
    "b = Decimal(3)\n",
    "c = a/b"
   ]
  },
  {
   "cell_type": "code",
   "execution_count": 125,
   "metadata": {},
   "outputs": [
    {
     "data": {
      "text/plain": [
       "Decimal('0.3333')"
      ]
     },
     "execution_count": 125,
     "metadata": {},
     "output_type": "execute_result"
    }
   ],
   "source": [
    "decimal.getcontext().prec = 4\n",
    "# decimal.getcontext.prec=4 not good\n",
    "b = Decimal(1)/ Decimal(3)\n",
    "b"
   ]
  },
  {
   "cell_type": "code",
   "execution_count": 126,
   "metadata": {},
   "outputs": [
    {
     "data": {
      "text/plain": [
       "Decimal('0.3333333333333333333333333333')"
      ]
     },
     "execution_count": 126,
     "metadata": {},
     "output_type": "execute_result"
    }
   ],
   "source": [
    "b = Decimal(1)/ Decimal(3)\n",
    "b"
   ]
  },
  {
   "cell_type": "code",
   "execution_count": 132,
   "metadata": {},
   "outputs": [
    {
     "name": "stdout",
     "output_type": "stream",
     "text": [
      "False\n",
      "True\n",
      "True\n"
     ]
    }
   ],
   "source": [
    "print(isinstance(3.2, decimal.Decimal))\n",
    "print(isinstance(3.2, float))\n",
    "print(isinstance([1,2,3], list))"
   ]
  },
  {
   "cell_type": "code",
   "execution_count": 139,
   "metadata": {},
   "outputs": [
    {
     "name": "stdout",
     "output_type": "stream",
     "text": [
      "13.0\n",
      "3\n",
      "2.6\n"
     ]
    }
   ],
   "source": [
    "a =  13\n",
    "b = 3.5\n",
    "c = '2.6'\n",
    "print(float(a))    \n",
    "print(int(b))\n",
    "print(float(c)) # cannot change a sting into an int"
   ]
  },
  {
   "cell_type": "code",
   "execution_count": 140,
   "metadata": {},
   "outputs": [
    {
     "name": "stdout",
     "output_type": "stream",
     "text": [
      "['__call__', '__class__', '__delattr__', '__dir__', '__doc__', '__eq__', '__format__', '__ge__', '__getattribute__', '__gt__', '__hash__', '__init__', '__init_subclass__', '__le__', '__lt__', '__module__', '__name__', '__ne__', '__new__', '__qualname__', '__reduce__', '__reduce_ex__', '__repr__', '__self__', '__setattr__', '__sizeof__', '__str__', '__subclasshook__', '__text_signature__']\n"
     ]
    }
   ],
   "source": [
    "# print the built-in function\n",
    "'''\n",
    "    print(*objects, sep=' ', end='\\n', file=sys.stdout, flush=False)\n",
    "    sep 分隔符\n",
    "    end 是否换行，默认换行\n",
    "    file 是定义流输出的文件\n",
    "    flush 立即把内容输出到流文件，不作缓存\n",
    "'''\n",
    "print(dir(print))"
   ]
  },
  {
   "cell_type": "code",
   "execution_count": 148,
   "metadata": {},
   "outputs": [
    {
     "name": "stdout",
     "output_type": "stream",
     "text": [
      "13 - 3.5 - 2.6\n",
      "13 $ 3.5 $ 2.613 - 3.5 - 2.6\n"
     ]
    }
   ],
   "source": [
    "print(a,b,c,sep=' - ')\n",
    "print(a,b,c,sep=' $ ', end='')\n",
    "print(a,b,c,sep=' - ')"
   ]
  },
  {
   "cell_type": "code",
   "execution_count": null,
   "metadata": {},
   "outputs": [],
   "source": []
  }
 ],
 "metadata": {
  "kernelspec": {
   "display_name": "Python 3",
   "language": "python",
   "name": "python3"
  },
  "language_info": {
   "codemirror_mode": {
    "name": "ipython",
    "version": 3
   },
   "file_extension": ".py",
   "mimetype": "text/x-python",
   "name": "python",
   "nbconvert_exporter": "python",
   "pygments_lexer": "ipython3",
   "version": "3.7.7"
  }
 },
 "nbformat": 4,
 "nbformat_minor": 4
}
