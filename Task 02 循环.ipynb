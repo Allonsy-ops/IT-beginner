{
 "cells": [
  {
   "cell_type": "code",
   "execution_count": 1,
   "metadata": {},
   "outputs": [
    {
     "name": "stdout",
     "output_type": "stream",
     "text": [
      "0 is less than 5\n",
      "count is 0\n",
      "1 is less than 5\n",
      "count is 1\n",
      "2 is less than 5\n",
      "count is 2\n",
      "3 is less than 5\n",
      "count is 3\n",
      "4 is less than 5\n",
      "count is 4\n",
      "5 is not less than 5\n"
     ]
    }
   ],
   "source": [
    "# 1.while循环\n",
    "'''\n",
    "    while boolean expression:\n",
    "        code blocks\n",
    "        \n",
    "    while list_A:\n",
    "        print('list A is not empty.')\n",
    "    else:\n",
    "        print('list A is emtpy.')\n",
    "'''\n",
    "count = 0\n",
    "while count < 5:\n",
    "    print(\"%d is less than 5\" % count)\n",
    "    print('count is',count)\n",
    "    count += 1\n",
    "else:\n",
    "     print(\"%d is not less than 5\" % count)\n"
   ]
  },
  {
   "cell_type": "code",
   "execution_count": 2,
   "metadata": {},
   "outputs": [
    {
     "name": "stdout",
     "output_type": "stream",
     "text": [
      "0\n"
     ]
    }
   ],
   "source": [
    "# break 和 continue 都可跳出循环\n",
    "count = 0\n",
    "while count <= 3:\n",
    "    print(count)\n",
    "    count += 1\n",
    "    break\n",
    "else:\n",
    "    print('stop!')    \n",
    "# 0"
   ]
  },
  {
   "cell_type": "code",
   "execution_count": 3,
   "metadata": {},
   "outputs": [
    {
     "name": "stdout",
     "output_type": "stream",
     "text": [
      "0\n",
      "1\n",
      "2\n",
      "3\n",
      "stop!\n"
     ]
    }
   ],
   "source": [
    "count = 0\n",
    "while count <= 3:\n",
    "    print(count)\n",
    "    count += 1\n",
    "    continue\n",
    "else:\n",
    "    print('stop!')  \n",
    "# 0\n",
    "# stop!"
   ]
  },
  {
   "cell_type": "code",
   "execution_count": 4,
   "metadata": {},
   "outputs": [
    {
     "name": "stdout",
     "output_type": "stream",
     "text": [
      "I L o v e L S G O "
     ]
    }
   ],
   "source": [
    "# 2.for 循环\n",
    "'''\n",
    "    for 迭代变量 in 可迭代对象:\n",
    "        print(i, end=' ')\n",
    "'''\n",
    "for i in 'ILoveLSGO':\n",
    "    print(i, end=' ')"
   ]
  },
  {
   "cell_type": "code",
   "execution_count": 5,
   "metadata": {},
   "outputs": [
    {
     "name": "stdout",
     "output_type": "stream",
     "text": [
      "a\n",
      "b\n",
      "c\n",
      "d\n",
      "a\n",
      "b\n",
      "c\n",
      "d\n"
     ]
    }
   ],
   "source": [
    "people = ['a','b','c','d']\n",
    "for each in people:\n",
    "    print(each)\n",
    "\n",
    "for i in range(len(people)):\n",
    "    print(people[i])\n",
    "    \n"
   ]
  },
  {
   "cell_type": "code",
   "execution_count": 9,
   "metadata": {},
   "outputs": [
    {
     "ename": "AssertionError",
     "evalue": "",
     "output_type": "error",
     "traceback": [
      "\u001b[1;31m---------------------------------------------------------------------------\u001b[0m",
      "\u001b[1;31mAssertionError\u001b[0m                            Traceback (most recent call last)",
      "\u001b[1;32m<ipython-input-9-3aa07d738e73>\u001b[0m in \u001b[0;36m<module>\u001b[1;34m\u001b[0m\n\u001b[0;32m      1\u001b[0m \u001b[0mmy_list\u001b[0m \u001b[1;33m=\u001b[0m \u001b[1;33m[\u001b[0m\u001b[1;34m'lsgogroup'\u001b[0m\u001b[1;33m]\u001b[0m\u001b[1;33m\u001b[0m\u001b[1;33m\u001b[0m\u001b[0m\n\u001b[0;32m      2\u001b[0m \u001b[0mmy_list\u001b[0m\u001b[1;33m.\u001b[0m\u001b[0mpop\u001b[0m\u001b[1;33m(\u001b[0m\u001b[1;36m0\u001b[0m\u001b[1;33m)\u001b[0m\u001b[1;33m\u001b[0m\u001b[1;33m\u001b[0m\u001b[0m\n\u001b[1;32m----> 3\u001b[1;33m \u001b[1;32massert\u001b[0m \u001b[0mlen\u001b[0m\u001b[1;33m(\u001b[0m\u001b[0mmy_list\u001b[0m\u001b[1;33m)\u001b[0m \u001b[1;33m>\u001b[0m \u001b[1;36m0\u001b[0m\u001b[1;33m\u001b[0m\u001b[1;33m\u001b[0m\u001b[0m\n\u001b[0m",
      "\u001b[1;31mAssertionError\u001b[0m: "
     ]
    }
   ],
   "source": [
    "my_list = ['lsgogroup']\n",
    "my_list.pop(0)\n",
    "assert len(my_list) > 0\n"
   ]
  },
  {
   "cell_type": "code",
   "execution_count": 10,
   "metadata": {},
   "outputs": [
    {
     "name": "stdout",
     "output_type": "stream",
     "text": [
      "a:1 b:2 c:3 d:4 a b c d 1 2 3 4 "
     ]
    }
   ],
   "source": [
    "dic = {'a':1, 'b':2, 'c':3, 'd':4}\n",
    "for key, value in dic.items():\n",
    "    print(key, value, sep=':', end=' ')\n",
    "    \n",
    "for key in dic.keys():\n",
    "    print(key, end=' ')\n",
    "for value in dic.values():\n",
    "    print(value, end=' ')"
   ]
  },
  {
   "cell_type": "code",
   "execution_count": 11,
   "metadata": {},
   "outputs": [
    {
     "data": {
      "text/plain": [
       "'\\n    range(start, stop, step)\\n    range(a,b) -> [a, b)\\n'"
      ]
     },
     "execution_count": 11,
     "metadata": {},
     "output_type": "execute_result"
    }
   ],
   "source": [
    "# range\n",
    "'''\n",
    "    range(start, stop, step)\n",
    "    range(a,b) -> [a, b)\n",
    "'''\n"
   ]
  },
  {
   "cell_type": "code",
   "execution_count": 12,
   "metadata": {},
   "outputs": [],
   "source": [
    "# enumerate\n",
    "'''\n",
    "    enumerate(sequence, [start=0])\n",
    "'''\n",
    "seasons = ['Spring','Summer','Autumn','Winter']\n",
    "lst = list(enumerate(seasons))"
   ]
  },
  {
   "cell_type": "code",
   "execution_count": 14,
   "metadata": {},
   "outputs": [
    {
     "name": "stdout",
     "output_type": "stream",
     "text": [
      "Python\n",
      "R\n",
      "Matlab\n",
      "C++\n",
      "2 C++\n",
      "3 C++\n",
      "4 C++\n",
      "5 C++\n"
     ]
    }
   ],
   "source": [
    "'''\n",
    "    for i, a in enumerate(A,j)\n",
    "        do somehting with a\n",
    "'''\n",
    "languages = ['Python','R','Matlab','C++']\n",
    "for language in languages:\n",
    "    print(language)\n",
    "\n",
    "for i, languaga in enumerate(languages, 2):\n",
    "    print(i, language)"
   ]
  },
  {
   "cell_type": "code",
   "execution_count": 15,
   "metadata": {},
   "outputs": [],
   "source": [
    "# 推导式\n",
    "'''\n",
    "    列表推导式\n",
    "    [expr for value in collection [if condition]]\n",
    "'''\n",
    "x = [i**2 for i in range(1,10)]"
   ]
  },
  {
   "cell_type": "code",
   "execution_count": 17,
   "metadata": {},
   "outputs": [],
   "source": [
    "x = [(i, i**2) for i in range(1,10)]"
   ]
  },
  {
   "cell_type": "code",
   "execution_count": 18,
   "metadata": {},
   "outputs": [
    {
     "name": "stdout",
     "output_type": "stream",
     "text": [
      "[[0, 0], [0, 1], [0, 2], [1, 0], [1, 1], [1, 2], [2, 0], [2, 1], [2, 2]]\n"
     ]
    }
   ],
   "source": [
    "x = [[i, j] for i in range(3) for j in range(3)]\n",
    "print(x)"
   ]
  },
  {
   "cell_type": "code",
   "execution_count": 19,
   "metadata": {},
   "outputs": [
    {
     "name": "stdout",
     "output_type": "stream",
     "text": [
      "[[100, 0], [0, 1], [0, 2], [1, 0], [1, 1], [1, 2], [2, 0], [2, 1], [2, 2]]\n"
     ]
    }
   ],
   "source": [
    "x[0][0] = 100\n",
    "print(x)"
   ]
  },
  {
   "cell_type": "code",
   "execution_count": 20,
   "metadata": {},
   "outputs": [],
   "source": [
    "a = [(i, j) for i in range(3) if i < 1 for j in range(3) if j > 1]"
   ]
  },
  {
   "cell_type": "code",
   "execution_count": 21,
   "metadata": {},
   "outputs": [
    {
     "ename": "SyntaxError",
     "evalue": "invalid syntax (<ipython-input-21-fba01ddffd50>, line 1)",
     "output_type": "error",
     "traceback": [
      "\u001b[1;36m  File \u001b[1;32m\"<ipython-input-21-fba01ddffd50>\"\u001b[1;36m, line \u001b[1;32m1\u001b[0m\n\u001b[1;33m    a = [(i, j) if i < 1 for i in range(3)  if j > 1 for j in range(3) ]\u001b[0m\n\u001b[1;37m                           ^\u001b[0m\n\u001b[1;31mSyntaxError\u001b[0m\u001b[1;31m:\u001b[0m invalid syntax\n"
     ]
    }
   ],
   "source": [
    "a = [(i, j) if i < 1 for i in range(3)  if j > 1 for j in range(3) ]# 先for 再if"
   ]
  },
  {
   "cell_type": "code",
   "execution_count": 22,
   "metadata": {},
   "outputs": [
    {
     "name": "stdout",
     "output_type": "stream",
     "text": [
      "<generator object <genexpr> at 0x0000022540B78948>\n",
      "(0, 1, 2, 3, 4, 5, 6, 7, 8, 9)\n"
     ]
    }
   ],
   "source": [
    "# 元组推导式\n",
    "\n",
    "a = (x for x in range(10))\n",
    "print(a)\n",
    "print(tuple(a))"
   ]
  },
  {
   "cell_type": "code",
   "execution_count": 25,
   "metadata": {},
   "outputs": [],
   "source": [
    "# 字典推导式\n",
    "'''\n",
    "    {key_expr : value_expr for value in collection [if condition]}\n",
    "'''\n",
    "b = {i:i%2==0 for i in range(10) if i% 3 ==0}"
   ]
  },
  {
   "cell_type": "code",
   "execution_count": 27,
   "metadata": {},
   "outputs": [],
   "source": [
    "# 集合推导式\n",
    "'''\n",
    "    expr for value in collection [if condition]\n",
    "'''\n",
    "c = {i for i in [1,2,3,4,5,6,5,4,3,2,1]}\n"
   ]
  },
  {
   "cell_type": "code",
   "execution_count": 28,
   "metadata": {},
   "outputs": [
    {
     "name": "stdout",
     "output_type": "stream",
     "text": [
      "0\n",
      "1\n",
      "2\n",
      "3\n",
      "4\n",
      "5\n",
      "6\n",
      "7\n",
      "8\n",
      "9\n"
     ]
    }
   ],
   "source": [
    "# 其他\n",
    "e = (i for i in range(10))\n",
    "print(next(e))\n",
    "print(next(e)) # next有点像pop?\n",
    "\n",
    "for each in e:\n",
    "    print(each)\n",
    "    \n",
    "s = sum([i for i in range(101)]) #sum of 1-100, sum可以直接计算list的和\n",
    "s = sum((i for i in range(101))) # ssum可以直接计算tuple的和\n",
    "\n"
   ]
  },
  {
   "cell_type": "code",
   "execution_count": null,
   "metadata": {},
   "outputs": [],
   "source": [
    "# 练习题\n",
    "# 编写一个Python程序来查找那些可以被7整除又可以被5整除的数字，介于1500和2700之间\n",
    "x = [i for i in range(1500, 2701) if i%5 ==0 and i%7==0]\n",
    "print(x)"
   ]
  },
  {
   "cell_type": "code",
   "execution_count": null,
   "metadata": {},
   "outputs": [],
   "source": [
    "# 龟兔赛跑\n",
    "# def findWinner(v1, v2, t, s, l):\n",
    "\n",
    "l = 20\n",
    "maxTime = int(l/5)\n",
    "waiting_time = 0 #最大可能时间\n",
    "loc1=[0] * (maxTime+1)\n",
    "loc2=[0] * (maxTime+1)\n",
    "\n",
    "# 乌龟每秒位置\n",
    "for i in range(1, maxTime+1):\n",
    "   # if(loc2[i] <= l):\n",
    "    loc2[i] = loc2[i-1] + 5*i \n",
    "\n",
    "\n",
    "# 计算兔子每秒的位置：如果当前位置-乌龟位置小于l，前进\n",
    "\n",
    "# 不用等待的时候\n",
    "\n",
    "while i < maxTime+1: # 对兔子来说每一秒\n",
    "    while(waiting_time<=0): # 如果不用等\n",
    "        loc1[i] = loc1[i-1] + 10*i #就前进\n",
    "        if(loc1[i] - loc2[i] >= 5): # 如果距离差距超过t\n",
    "            waiting_time = 2 # 就有等待时间\n",
    "    else:# 如果需要等待\n",
    "        loc1[i] = loc1[i-1]\n",
    "        waiting_time -= 1\n",
    "\n",
    "print(loc1)\n",
    "print(loc2)"
   ]
  },
  {
   "cell_type": "code",
   "execution_count": null,
   "metadata": {},
   "outputs": [],
   "source": [
    "findWinner(10, 5, 5, 2, 20)"
   ]
  },
  {
   "cell_type": "code",
   "execution_count": null,
   "metadata": {},
   "outputs": [],
   "source": []
  }
 ],
 "metadata": {
  "kernelspec": {
   "display_name": "Python 3",
   "language": "python",
   "name": "python3"
  },
  "language_info": {
   "codemirror_mode": {
    "name": "ipython",
    "version": 3
   },
   "file_extension": ".py",
   "mimetype": "text/x-python",
   "name": "python",
   "nbconvert_exporter": "python",
   "pygments_lexer": "ipython3",
   "version": "3.7.7"
  }
 },
 "nbformat": 4,
 "nbformat_minor": 4
}
