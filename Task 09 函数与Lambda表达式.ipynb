{
 "cells": [
  {
   "cell_type": "code",
   "execution_count": 1,
   "metadata": {},
   "outputs": [
    {
     "data": {
      "text/plain": [
       "'\\n    python: 万物皆对象\\n    函数可以作变量和返回值\\n    \\n    def functionname(parameters):\\n         \"函数_文档字符串\"\\n         function_suite\\n         return [expression]\\n'"
      ]
     },
     "execution_count": 1,
     "metadata": {},
     "output_type": "execute_result"
    }
   ],
   "source": [
    "\"\"\"\n",
    "    python: 万物皆对象\n",
    "    函数可以作变量和返回值\n",
    "    \n",
    "    def functionname(parameters):\n",
    "         \"函数_文档字符串\"\n",
    "         function_suite\n",
    "         return [expression]\n",
    "\"\"\""
   ]
  },
  {
   "cell_type": "code",
   "execution_count": 2,
   "metadata": {},
   "outputs": [
    {
     "name": "stdout",
     "output_type": "stream",
     "text": [
      "kaye\n",
      "\n",
      "    这里的内容是函数文档\n",
      "    \n",
      "Help on function doc in module __main__:\n",
      "\n",
      "doc(name)\n",
      "    这里的内容是函数文档\n",
      "\n",
      "None\n"
     ]
    }
   ],
   "source": [
    "# 函数文档\n",
    "def  doc(name):\n",
    "    \"\"\"\n",
    "    这里的内容是函数文档\n",
    "    \"\"\"\n",
    "    return name\n",
    "\n",
    "print(doc('kaye'))\n",
    "print(doc.__doc__)\n",
    "print(help(doc))"
   ]
  },
  {
   "cell_type": "code",
   "execution_count": 3,
   "metadata": {},
   "outputs": [
    {
     "name": "stdout",
     "output_type": "stream",
     "text": [
      "Name:小马,Age:8\n"
     ]
    }
   ],
   "source": [
    "# 函数参数\n",
    "\n",
    "\"\"\"\n",
    "Python 的函数具有非常灵活多样的参数形态，既可以实现简单的调用，又可以传入非常复杂的参数。从简到繁的参\n",
    "数形态如下：\n",
    "1. 位置参数 (positional argument)\n",
    "\n",
    "def functionname(arg1):\n",
    " \"函数_文档字符串\"\n",
    " function_suite\n",
    " return [expression]\n",
    "\n",
    "1.1 arg1 - 位置参数 ，这些参数在调用函数 (call function) 时位置要固定。\n",
    "\n",
    "\n",
    "2. 默认参数 (default argument)\n",
    "\n",
    "def printinfo(name, age=8):\n",
    "    print('Name:{0},Age:{1}'.format(name, age))\n",
    "printinfo('小马') # Name:小马,Age:8\n",
    "printinfo('小马', 10) # Name:小马,Age:10\n",
    "\n",
    "2.1. arg2 = v - 默认参数 = 默认值，调用函数时，默认参数的值如果没有传入，则被认为是默认值。\n",
    "2.2. 默认参数一定要放在位置参数 后面，不然程序会报错。\n",
    "\n",
    "1. Python 允许函数调用时参数的顺序与声明时不一致，因为 Python 解释器能够用参数名匹配参数值。\n",
    "\n",
    "\"\"\"\n",
    "def printinfo(name, age):\n",
    "    print('Name:{0},Age:{1}'.format(name, age))\n",
    "printinfo(age=8, name='小马') # Name:小马,Age:8\n"
   ]
  },
  {
   "cell_type": "code",
   "execution_count": 4,
   "metadata": {},
   "outputs": [
    {
     "name": "stdout",
     "output_type": "stream",
     "text": [
      "10\n",
      "70\n",
      "60\n",
      "50\n"
     ]
    }
   ],
   "source": [
    "\"\"\"\n",
    "3. 可变参数 (variable argument)\n",
    "3.1. *args - 可变参数，可以是从零个到任意个，自动组装成元组。\n",
    "3.2. 加了星号（*）的变量名会存放所有未命名的变量参数。\n",
    "\n",
    "\n",
    "\n",
    "\"\"\"\n",
    "\n",
    "def printinfo(arg1, *args):\n",
    "    print(arg1)\n",
    "    for var in args:\n",
    "        print(var)\n",
    "printinfo(10) # 10\n",
    "printinfo(70, 60, 50)"
   ]
  },
  {
   "cell_type": "code",
   "execution_count": 5,
   "metadata": {},
   "outputs": [
    {
     "name": "stdout",
     "output_type": "stream",
     "text": [
      "70\n",
      "(60, 50)\n",
      "{}\n",
      "70\n",
      "(60, 50)\n",
      "{'a': 1, 'b': 2}\n"
     ]
    },
    {
     "data": {
      "text/plain": [
       "'\\n「可变参数」和「关键字参数」的同异总结如下：\\n1. 可变参数允许传入零个到任意个参数，它们在函数调用时自动组装为一个元组 (tuple)。\\n2. 关键字参数允许传入零个到任意个参数，它们在函数内部自动组装为一个字典 (dict)。\\n\\n'"
      ]
     },
     "execution_count": 5,
     "metadata": {},
     "output_type": "execute_result"
    }
   ],
   "source": [
    "\"\"\"\n",
    "4. 关键字参数 (keyword argument)\n",
    "4.1. **kw - 关键字参数，可以是从零个到任意个，自动组装成字典。\n",
    "\n",
    "\"\"\"\n",
    "def printinfo(arg1, *args, **kwargs):\n",
    "    print(arg1)\n",
    "    print(args)\n",
    "    print(kwargs)\n",
    "printinfo(70, 60, 50)\n",
    "# 70\n",
    "\n",
    "# (60, 50)\n",
    "# {}\n",
    "printinfo(70, 60, 50, a=1, b=2)\n",
    "# 70\n",
    "# (60, 50)\n",
    "# {'a': 1, 'b': 2}\n",
    "\n",
    "\"\"\"\n",
    "「可变参数」和「关键字参数」的同异总结如下：\n",
    "1. 可变参数允许传入零个到任意个参数，它们在函数调用时自动组装为一个元组 (tuple)。\n",
    "2. 关键字参数允许传入零个到任意个参数，它们在函数内部自动组装为一个字典 (dict)。\n",
    "\n",
    "\"\"\""
   ]
  },
  {
   "cell_type": "code",
   "execution_count": 6,
   "metadata": {},
   "outputs": [
    {
     "name": "stdout",
     "output_type": "stream",
     "text": [
      "70\n",
      "10\n",
      "{'a': 1, 'b': 2}\n"
     ]
    },
    {
     "data": {
      "text/plain": [
       "'\\n没有写参数名 nwk ，因此 10 被当成「位置参数」，而原函数只有 1 个位置函数，现在调用了 2 个，因此程序\\n会报错。\\n'"
      ]
     },
     "execution_count": 6,
     "metadata": {},
     "output_type": "execute_result"
    }
   ],
   "source": [
    "\"\"\"\n",
    "5. 命名关键字参数 (name keyword argument)\n",
    "\n",
    "def functionname(arg1, arg2=v, *args, *, nkw, **kw):\n",
    "    \"函数_文档字符串\"\n",
    "    function_suite\n",
    "    return [expression]\n",
    "\n",
    "5.1. *, nkw - 命名关键字参数，用户想要输入的关键字参数，定义方式是在nkw 前面加个分隔符 *。\n",
    "5.2. 如果要限制关键字参数的名字，就可以用「命名关键字参数」\n",
    "5.3. 使用命名关键字参数时，要特别注意不能缺少参数名。\n",
    "\n",
    "\"\"\"\n",
    "def printinfo(arg1, *, nkw, **kwargs):\n",
    "    print(arg1)\n",
    "    print(nkw)\n",
    "    print(kwargs)\n",
    "printinfo(70, nkw=10, a=1, b=2)\n",
    "\n",
    "\n",
    "# printinfo(70, 10, a=1, b=2)\n",
    "# TypeError: printinfo() takes 1 positional argument but 2 were given\n",
    "\n",
    "\"\"\"\n",
    "没有写参数名 nwk ，因此 10 被当成「位置参数」，而原函数只有 1 个位置函数，现在调用了 2 个，因此程序\n",
    "会报错。\n",
    "\"\"\""
   ]
  },
  {
   "cell_type": "code",
   "execution_count": 7,
   "metadata": {},
   "outputs": [
    {
     "data": {
      "text/plain": [
       "'\\n6. 参数组合\\n在 Python 中定义函数，可以用位置参数、默认参数、可变参数、命名关键字参数和关键字参数，这 5 种参数中的 4\\n个都可以一起使用，但是注意，\\n参数定义的顺序必须是：\\n1. 位置参数、默认参数、可变参数和关键字参数。\\n2. 位置参数、默认参数、命名关键字参数和关键字参数。\\n\\n要注意定义可变参数和关键字参数的语法：\\n1. *args 是可变参数， args 接收的是一个 tuple\\n2. **kw 是关键字参数， kw 接收的是一个 dict\\n命名关键字参数是为了限制调用者可以传入的参数名，同时可以提供默认值。定义命名关键字参数不要忘了写分隔\\n符 * ，否则定义的是位置参数。\\n警告：虽然可以组合多达 5 种参数，但不要同时使用太多的组合，否则函数很难懂。\\n\\n\\n'"
      ]
     },
     "execution_count": 7,
     "metadata": {},
     "output_type": "execute_result"
    }
   ],
   "source": [
    "\"\"\"\n",
    "6. 参数组合\n",
    "在 Python 中定义函数，可以用位置参数、默认参数、可变参数、命名关键字参数和关键字参数，这 5 种参数中的 4\n",
    "个都可以一起使用，但是注意，\n",
    "参数定义的顺序必须是：\n",
    "1. 位置参数、默认参数、可变参数和关键字参数。\n",
    "2. 位置参数、默认参数、命名关键字参数和关键字参数。\n",
    "\n",
    "要注意定义可变参数和关键字参数的语法：\n",
    "1. *args 是可变参数， args 接收的是一个 tuple\n",
    "2. **kw 是关键字参数， kw 接收的是一个 dict\n",
    "命名关键字参数是为了限制调用者可以传入的参数名，同时可以提供默认值。定义命名关键字参数不要忘了写分隔\n",
    "符 * ，否则定义的是位置参数。\n",
    "警告：虽然可以组合多达 5 种参数，但不要同时使用太多的组合，否则函数很难懂。\n",
    "\n",
    "\n",
    "\"\"\""
   ]
  },
  {
   "cell_type": "code",
   "execution_count": 8,
   "metadata": {},
   "outputs": [
    {
     "name": "stdout",
     "output_type": "stream",
     "text": [
      "[1, '小马的程序人生', 3.14]\n",
      "(1, '小马的程序人生', 3.14)\n"
     ]
    }
   ],
   "source": [
    "\"\"\"\n",
    "函数返回值\n",
    "\"\"\"\n",
    "def back():\n",
    "    return [1, '小马的程序人生', 3.14]\n",
    "print(back()) \n",
    "\n",
    "# 没有括号的时候输出一个元组\n",
    "def back():\n",
    "    return 1, '小马的程序人生', 3.14\n",
    "print(back())"
   ]
  },
  {
   "cell_type": "code",
   "execution_count": 9,
   "metadata": {},
   "outputs": [
    {
     "name": "stdout",
     "output_type": "stream",
     "text": [
      "1\n",
      "123\n",
      "123\n"
     ]
    }
   ],
   "source": [
    "\"\"\"\n",
    "变量作用域\n",
    "1. Python 中，程序的变量并不是在哪个位置都可以访问的，访问权限决定于这个变量是在哪里赋值的。\n",
    "2. 定义在函数内部的变量拥有局部作用域，该变量称为局部变量。\n",
    "3. 定义在函数外部的变量拥有全局作用域，该变量称为全局变量。\n",
    "4. 局部变量只能在其被声明的函数内部访问，而全局变量可以在整个程序范围内访问。\n",
    "\n",
    "1. 当内部作用域想修改外部作用域的变量时，就要用到 global 和 nonlocal 关键字了。\n",
    "\n",
    "\"\"\"\n",
    "num = 1\n",
    "def fun1():\n",
    "    global num # 需要使用 global 关键字声明\n",
    "    print(num) # 1\n",
    "    num = 123\n",
    "    print(num) # 123\n",
    "fun1()\n",
    "print(num) \n"
   ]
  },
  {
   "cell_type": "code",
   "execution_count": 10,
   "metadata": {},
   "outputs": [
    {
     "name": "stdout",
     "output_type": "stream",
     "text": [
      "<class 'function'>\n",
      "40\n"
     ]
    }
   ],
   "source": [
    "\"\"\"\n",
    "闭包\n",
    "1. 是函数式编程的一个重要的语法结构，是一种特殊的内嵌函数。\n",
    "2. 如果在一个内部函数里对外层非全局作用域的变量进行引用，那么内部函数就被认为是闭包。\n",
    "3. 通过闭包可以访问外层非全局作用域的变量，这个作用域称为 闭包作用域。\n",
    "\n",
    "\"\"\"\n",
    "def funX(x):\n",
    "    def funY(y):\n",
    "        return x * y\n",
    "    return funY\n",
    "i = funX(8)\n",
    "print(type(i)) # <class 'function'>\n",
    "print(i(5)) \n"
   ]
  },
  {
   "cell_type": "code",
   "execution_count": 11,
   "metadata": {},
   "outputs": [
    {
     "name": "stdout",
     "output_type": "stream",
     "text": [
      "3\n",
      "2\n",
      "0\n"
     ]
    }
   ],
   "source": [
    "# 闭包的返回值通常是函数\n",
    "def make_counter(init):\n",
    "    counter = [init]\n",
    "    def inc(): counter[0] += 1\n",
    "    def dec(): counter[0] -= 1\n",
    "    def get(): return counter[0]\n",
    "    def reset(): counter[0] = init\n",
    "    return inc, dec, get, reset\n",
    "inc, dec, get, reset = make_counter(0)\n",
    "\n",
    "inc()\n",
    "\n",
    "inc()\n",
    "inc()\n",
    "print(get()) # 3\n",
    "dec()\n",
    "print(get()) # 2\n",
    "reset()\n",
    "print(get()) "
   ]
  },
  {
   "cell_type": "code",
   "execution_count": 12,
   "metadata": {},
   "outputs": [
    {
     "name": "stdout",
     "output_type": "stream",
     "text": [
      "100\n",
      "100\n"
     ]
    },
    {
     "data": {
      "text/plain": [
       "'\\nglobal - 使inner函数能够使用并更改外部变量\\nnonlocal - 使inner函数能够在外部使用\\n'"
      ]
     },
     "execution_count": 12,
     "metadata": {},
     "output_type": "execute_result"
    }
   ],
   "source": [
    "#  如果要修改闭包作用域中的变量则需要 nonlocal 关键字\n",
    "def outer():\n",
    "    num = 10\n",
    "    def inner():\n",
    "        nonlocal num # nonlocal关键字声明 # m否则输出是100/ 10\n",
    "        num = 100\n",
    "        print(num)\n",
    "    inner()\n",
    "    print(num)\n",
    "outer() \n",
    "\n",
    "\"\"\"\n",
    "global - 使inner函数能够使用并更改外部变量\n",
    "nonlocal - 使inner函数能够在外部使用\n",
    "\"\"\""
   ]
  },
  {
   "cell_type": "code",
   "execution_count": 13,
   "metadata": {},
   "outputs": [
    {
     "name": "stdout",
     "output_type": "stream",
     "text": [
      "120\n"
     ]
    }
   ],
   "source": [
    "\"\"\"\n",
    "递归\n",
    "1. 如果一个函数在内部调用自身本身，这个函数就是递归函数。\n",
    "\n",
    "\"\"\"\n",
    "def factorial(n):\n",
    "    if n == 1:\n",
    "        return 1\n",
    "    return n * factorial(n - 1)\n",
    "print(factorial(5)) "
   ]
  },
  {
   "cell_type": "code",
   "execution_count": 14,
   "metadata": {},
   "outputs": [
    {
     "name": "stdout",
     "output_type": "stream",
     "text": [
      "120\n"
     ]
    }
   ],
   "source": [
    "# 循环\n",
    "n = 5\n",
    "for k in range(1, 5):\n",
    "    n = n * k\n",
    "print(n) "
   ]
  },
  {
   "cell_type": "code",
   "execution_count": 15,
   "metadata": {},
   "outputs": [
    {
     "name": "stdout",
     "output_type": "stream",
     "text": [
      "[0, 1, 1, 2, 3, 5, 8, 13, 21, 34, 55]\n",
      "[0, 1, 1, 2, 3, 5, 8, 13, 21, 34, 55]\n"
     ]
    }
   ],
   "source": [
    "# 斐波那契数列 f(n)=f(n-1)+f(n-2), f(0)=0 f(1)=1\n",
    "# 循环\n",
    "i = 0\n",
    "j = 1\n",
    "lst = list([i, j])\n",
    "for k in range(2, 11):\n",
    "    k = i + j\n",
    "    lst.append(k)\n",
    "    i = j\n",
    "    j = k\n",
    "print(lst) \n",
    "\n",
    "# 递归\n",
    "def recur_fibo(n):\n",
    "    if n <= 1:\n",
    "        return n\n",
    "    return recur_fibo(n - 1) + recur_fibo(n - 2)\n",
    "lst = list()\n",
    "for k in range(11):\n",
    "    lst.append(recur_fibo(k))\n",
    "print(lst) \n",
    "\n"
   ]
  },
  {
   "cell_type": "code",
   "execution_count": 16,
   "metadata": {},
   "outputs": [],
   "source": [
    "\"\"\"\n",
    "设置递归的层数，Python默认递归层数为 100\n",
    "\n",
    "\n",
    "\"\"\"\n",
    "import sys\n",
    "sys.setrecursionlimit(1000)"
   ]
  },
  {
   "cell_type": "code",
   "execution_count": 17,
   "metadata": {},
   "outputs": [
    {
     "name": "stdout",
     "output_type": "stream",
     "text": [
      "[0, 1, 4, 9, 16, 25, 36, 49, 64, 81]\n",
      "[0, 1, 4, 9, 16, 25, 36, 49, 64, 81]\n",
      "你好\n",
      "30\n",
      "15\n"
     ]
    }
   ],
   "source": [
    "\"\"\"\n",
    "13.2 2. Lambda 表达式\n",
    "13.2.1 匿名函数的定义\n",
    "在 Python 里有两类函数：\n",
    "1. 第一类：用 def 关键词定义的正规函数\n",
    "2. 第二类：用 lambda 关键词定义的匿名函数\n",
    "python 使用 lambda 关键词来创建匿名函数，而非 def 关键词，它没有函数名，其语法结构如下：\n",
    "\n",
    "lambda argument_list: expression\n",
    "\n",
    "1. lambda - 定义匿名函数的关键词。\n",
    "2. argument_list - 函数参数，它们可以是位置参数、默认参数、关键字参数，和正规函数里的参数类型一\n",
    "样。\n",
    "3. : - 冒号，在函数参数和表达式中间要加个冒号。\n",
    "4. expression - 只是一个表达式，输入函数参数，输出一些值。\n",
    "注意：\n",
    "1. expression 中没有 return 语句，因为 lambda 不需要它来返回，表达式本身结果就是返回值。\n",
    "2. 匿名函数拥有自己的命名空间，且不能访问自己参数列表之外或全局命名空间里的参数。\n",
    "\n",
    "\"\"\"\n",
    "\n",
    "y = [x**2 for x in range(10)]\n",
    "print(y)\n",
    "\n",
    "lbd_sqr = lambda x: x ** 2\n",
    "y = [lbd_sqr(x) for x in range(10)]\n",
    "print(y)\n",
    "\n",
    "sumary = lambda arg1, arg2: arg1 + arg2\n",
    "print(sumary('你','好'))\n",
    "print(sumary(10,20))\n",
    "\n",
    "func = lambda *args: sum(args)\n",
    "print(func(1,2,5,4,3))"
   ]
  },
  {
   "cell_type": "code",
   "execution_count": 18,
   "metadata": {},
   "outputs": [
    {
     "name": "stdout",
     "output_type": "stream",
     "text": [
      "[1, 3, 5, 7, 9]\n"
     ]
    }
   ],
   "source": [
    "\"\"\"\n",
    "匿名函数 常常应用于函数式编程的高阶函数 (high-order function)中，主要有两种形式：\n",
    "1. 参数是函数 (filter, map)\n",
    "2. 返回值是函数 (closure)\n",
    "如，在 filter 和 map 函数中的应用：\n",
    "1. filter(function, iterable) 过滤序列，过滤掉不符合条件的元素，返回一个迭代器对象，如果要转换为\n",
    "列表，可以使用 list() 来转换。\n",
    "\n",
    "\"\"\"\n",
    "odd = lambda x: x % 2 == 1\n",
    "templist = filter(odd, [1, 2, 3, 4, 5, 6, 7, 8, 9])\n",
    "print(list(templist))"
   ]
  },
  {
   "cell_type": "code",
   "execution_count": 19,
   "metadata": {},
   "outputs": [
    {
     "name": "stdout",
     "output_type": "stream",
     "text": [
      "[1, 4, 9, 16, 25]\n",
      "[3, 7, 11, 15, 19]\n"
     ]
    }
   ],
   "source": [
    "# 1. map(function, *iterables) 根据提供的函数对指定序列做映射。\n",
    "m1 = map(lambda x: x ** 2, [1, 2, 3, 4, 5])\n",
    "print(list(m1))\n",
    "# [1, 4, 9, 16, 25]\n",
    "m2 = map(lambda x, y: x + y, [1, 3, 5, 7, 9], [2, 4, 6, 8, 10])\n",
    "print(list(m2)) \n"
   ]
  },
  {
   "cell_type": "code",
   "execution_count": 20,
   "metadata": {},
   "outputs": [
    {
     "name": "stdout",
     "output_type": "stream",
     "text": [
      "15\n",
      "5\n",
      "3.0\n"
     ]
    }
   ],
   "source": [
    "# 自定义函数\n",
    "def apply_to_list(fun, some_list):\n",
    "    return fun(some_list)\n",
    "lst = [1, 2, 3, 4, 5]\n",
    "print(apply_to_list(sum, lst))\n",
    "# 15\n",
    "print(apply_to_list(len, lst))\n",
    "# 5\n",
    "print(apply_to_list(lambda x: sum(x) / len(x), lst))"
   ]
  },
  {
   "cell_type": "code",
   "execution_count": 21,
   "metadata": {},
   "outputs": [
    {
     "name": "stdout",
     "output_type": "stream",
     "text": [
      "[[2, 8], [3, 7], [6, 5]]\n",
      "[[6, 5], [3, 7], [2, 8]]\n"
     ]
    }
   ],
   "source": [
    "\"\"\"\n",
    "练习题：\n",
    "1. 怎么给函数编写⽂档？\n",
    "2. 怎么给函数参数和返回值注解？\n",
    "3. 闭包中，怎么对数字、字符串、元组等不可变元素更新。\n",
    "4. 分别根据每一行的首元素和尾元素大小对二维列表 a = [[6, 5], [3, 7], [2, 8]] 排序。(利用lambda表达式)\n",
    "\n",
    "\"\"\"\n",
    "# def_name.__doc__ 用三引号写在函数第一行\n",
    "# 写在doc里\n",
    "# 用nonlocal，用内部变量代替外部变量\n",
    "a = [[6, 5], [3, 7], [2, 8]]\n",
    "a.sort(key = lambda a : a[0])\n",
    "print(a)\n",
    "a.sort(key = lambda a : a[1])\n",
    "print(a)"
   ]
  },
  {
   "cell_type": "code",
   "execution_count": 22,
   "metadata": {},
   "outputs": [
    {
     "ename": "RecursionError",
     "evalue": "maximum recursion depth exceeded in comparison",
     "output_type": "error",
     "traceback": [
      "\u001b[1;31m---------------------------------------------------------------------------\u001b[0m",
      "\u001b[1;31mRecursionError\u001b[0m                            Traceback (most recent call last)",
      "\u001b[1;32m<ipython-input-22-38ee44bd8e7b>\u001b[0m in \u001b[0;36m<module>\u001b[1;34m\u001b[0m\n\u001b[0;32m      8\u001b[0m         \u001b[1;32mreturn\u001b[0m \u001b[1;36m1\u001b[0m\u001b[1;33m\u001b[0m\u001b[1;33m\u001b[0m\u001b[0m\n\u001b[0;32m      9\u001b[0m     \u001b[1;32mreturn\u001b[0m \u001b[1;33m(\u001b[0m\u001b[1;36m1\u001b[0m \u001b[1;33m+\u001b[0m \u001b[1;36m2\u001b[0m \u001b[1;33m*\u001b[0m \u001b[0mhanoi\u001b[0m\u001b[1;33m(\u001b[0m\u001b[0mn\u001b[0m\u001b[1;33m-\u001b[0m\u001b[1;36m1\u001b[0m\u001b[1;33m)\u001b[0m\u001b[1;33m)\u001b[0m\u001b[1;33m\u001b[0m\u001b[1;33m\u001b[0m\u001b[0m\n\u001b[1;32m---> 10\u001b[1;33m \u001b[0mprint\u001b[0m\u001b[1;33m(\u001b[0m\u001b[0mhanoi\u001b[0m\u001b[1;33m(\u001b[0m\u001b[1;36m3\u001b[0m\u001b[1;33m)\u001b[0m\u001b[1;33m)\u001b[0m\u001b[1;33m\u001b[0m\u001b[1;33m\u001b[0m\u001b[0m\n\u001b[0m",
      "\u001b[1;32m<ipython-input-22-38ee44bd8e7b>\u001b[0m in \u001b[0;36mhanoi\u001b[1;34m(num)\u001b[0m\n\u001b[0;32m      7\u001b[0m     \u001b[1;32mif\u001b[0m \u001b[1;33m(\u001b[0m\u001b[0mnum\u001b[0m \u001b[1;33m<=\u001b[0m \u001b[1;36m1\u001b[0m\u001b[1;33m)\u001b[0m\u001b[1;33m:\u001b[0m\u001b[1;33m\u001b[0m\u001b[1;33m\u001b[0m\u001b[0m\n\u001b[0;32m      8\u001b[0m         \u001b[1;32mreturn\u001b[0m \u001b[1;36m1\u001b[0m\u001b[1;33m\u001b[0m\u001b[1;33m\u001b[0m\u001b[0m\n\u001b[1;32m----> 9\u001b[1;33m     \u001b[1;32mreturn\u001b[0m \u001b[1;33m(\u001b[0m\u001b[1;36m1\u001b[0m \u001b[1;33m+\u001b[0m \u001b[1;36m2\u001b[0m \u001b[1;33m*\u001b[0m \u001b[0mhanoi\u001b[0m\u001b[1;33m(\u001b[0m\u001b[0mn\u001b[0m\u001b[1;33m-\u001b[0m\u001b[1;36m1\u001b[0m\u001b[1;33m)\u001b[0m\u001b[1;33m)\u001b[0m\u001b[1;33m\u001b[0m\u001b[1;33m\u001b[0m\u001b[0m\n\u001b[0m\u001b[0;32m     10\u001b[0m \u001b[0mprint\u001b[0m\u001b[1;33m(\u001b[0m\u001b[0mhanoi\u001b[0m\u001b[1;33m(\u001b[0m\u001b[1;36m3\u001b[0m\u001b[1;33m)\u001b[0m\u001b[1;33m)\u001b[0m\u001b[1;33m\u001b[0m\u001b[1;33m\u001b[0m\u001b[0m\n",
      "... last 1 frames repeated, from the frame below ...\n",
      "\u001b[1;32m<ipython-input-22-38ee44bd8e7b>\u001b[0m in \u001b[0;36mhanoi\u001b[1;34m(num)\u001b[0m\n\u001b[0;32m      7\u001b[0m     \u001b[1;32mif\u001b[0m \u001b[1;33m(\u001b[0m\u001b[0mnum\u001b[0m \u001b[1;33m<=\u001b[0m \u001b[1;36m1\u001b[0m\u001b[1;33m)\u001b[0m\u001b[1;33m:\u001b[0m\u001b[1;33m\u001b[0m\u001b[1;33m\u001b[0m\u001b[0m\n\u001b[0;32m      8\u001b[0m         \u001b[1;32mreturn\u001b[0m \u001b[1;36m1\u001b[0m\u001b[1;33m\u001b[0m\u001b[1;33m\u001b[0m\u001b[0m\n\u001b[1;32m----> 9\u001b[1;33m     \u001b[1;32mreturn\u001b[0m \u001b[1;33m(\u001b[0m\u001b[1;36m1\u001b[0m \u001b[1;33m+\u001b[0m \u001b[1;36m2\u001b[0m \u001b[1;33m*\u001b[0m \u001b[0mhanoi\u001b[0m\u001b[1;33m(\u001b[0m\u001b[0mn\u001b[0m\u001b[1;33m-\u001b[0m\u001b[1;36m1\u001b[0m\u001b[1;33m)\u001b[0m\u001b[1;33m)\u001b[0m\u001b[1;33m\u001b[0m\u001b[1;33m\u001b[0m\u001b[0m\n\u001b[0m\u001b[0;32m     10\u001b[0m \u001b[0mprint\u001b[0m\u001b[1;33m(\u001b[0m\u001b[0mhanoi\u001b[0m\u001b[1;33m(\u001b[0m\u001b[1;36m3\u001b[0m\u001b[1;33m)\u001b[0m\u001b[1;33m)\u001b[0m\u001b[1;33m\u001b[0m\u001b[1;33m\u001b[0m\u001b[0m\n",
      "\u001b[1;31mRecursionError\u001b[0m: maximum recursion depth exceeded in comparison"
     ]
    }
   ],
   "source": [
    "\"\"\"\n",
    "5. 利用python解决汉诺塔问题？\n",
    "有a、b、c三根柱子，在a柱子上从下往上按照大小顺序摞着64片圆盘，把圆盘从下面开始按大小顺序重新摆放在c\n",
    "柱子上，尝试用函数来模拟解决的过程。（提示：将问题简化为已经成功地将a柱上面的63个盘子移到了b柱）\n",
    "\"\"\"\n",
    "def hanoi(num):\n",
    "    if (num <= 1):\n",
    "        return 1\n",
    "    return (1 + 2 * hanoi(n-1))\n",
    "print(hanoi(3))"
   ]
  },
  {
   "cell_type": "code",
   "execution_count": null,
   "metadata": {},
   "outputs": [],
   "source": []
  }
 ],
 "metadata": {
  "kernelspec": {
   "display_name": "Python 3",
   "language": "python",
   "name": "python3"
  },
  "language_info": {
   "codemirror_mode": {
    "name": "ipython",
    "version": 3
   },
   "file_extension": ".py",
   "mimetype": "text/x-python",
   "name": "python",
   "nbconvert_exporter": "python",
   "pygments_lexer": "ipython3",
   "version": "3.7.7"
  }
 },
 "nbformat": 4,
 "nbformat_minor": 4
}
