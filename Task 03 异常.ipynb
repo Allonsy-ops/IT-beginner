{
 "cells": [
  {
   "cell_type": "code",
   "execution_count": 17,
   "metadata": {},
   "outputs": [
    {
     "name": "stdout",
     "output_type": "stream",
     "text": [
      "数值出错\n",
      "原因是：invalid literal for int() with base 10: 'abc'\n",
      "\n"
     ]
    }
   ],
   "source": [
    "# try-except\n",
    "\"\"\"\n",
    "    try:\n",
    "        检测范围\n",
    "    except Exception[as reason]:\n",
    "        出现异常后的处理代码\n",
    "\"\"\"\n",
    "\n",
    "try:\n",
    "    int(\"abc\")\n",
    "    s = 1 + '1'\n",
    "    f = open('cat.py')\n",
    "    print(f.read())\n",
    "    f.close()\n",
    "except  OSError as error:\n",
    "    print('打开文件出错\\n原因是：' + str(error))\n",
    "except TypeError as error:\n",
    "     print('类型出错\\n原因是：' + str(error))\n",
    "except ValueError as error:\n",
    "     print('数值出错\\n原因是：' + str(error))\n",
    "\n",
    "finally:\n",
    "    print('')"
   ]
  },
  {
   "cell_type": "code",
   "execution_count": 18,
   "metadata": {},
   "outputs": [
    {
     "name": "stdout",
     "output_type": "stream",
     "text": [
      "查询错误\n"
     ]
    }
   ],
   "source": [
    "# try-except-else\n",
    "\"\"\"\n",
    "    KeyError 是 LookupError 的子类\n",
    "    使用多个 except 代码块时，必须坚持对其规范排序，要从最具针对性的异常到最通用\n",
    "的异常\n",
    "    多个except语句按顺序执行\n",
    "\"\"\"\n",
    "dic = {'a':1, 'b':2, 'c':3}\n",
    "try:\n",
    "    x = dic['y']\n",
    "except LookupError:\n",
    "    print('查询错误')\n",
    "except KeyError:\n",
    "    print('键错误')\n",
    "else:\n",
    "    print(x)"
   ]
  },
  {
   "cell_type": "code",
   "execution_count": 19,
   "metadata": {},
   "outputs": [
    {
     "name": "stdout",
     "output_type": "stream",
     "text": [
      "出错了！\n",
      "原因是：unsupported operand type(s) for +: 'int' and 'str'\n"
     ]
    }
   ],
   "source": [
    "# 一个 except 子句可以同时处理多个异常，这些异常将被放在一个括号里成为一个元组\n",
    "try:\n",
    "    s = 1 + '1'\n",
    "    int(\"abc\")\n",
    "    f = open('test.txt')\n",
    "    print(f.read())\n",
    "    f.close()\n",
    "except (OSError, TypeError, ValueError) as error:\n",
    "    print('出错了！\\n原因是：' + str(error))\n"
   ]
  },
  {
   "cell_type": "code",
   "execution_count": 23,
   "metadata": {},
   "outputs": [
    {
     "name": "stdout",
     "output_type": "stream",
     "text": [
      "Error is : division by zero\n",
      "executing finally clause\n"
     ]
    }
   ],
   "source": [
    "# try - except - finally\n",
    "\"\"\"\n",
    "try:\n",
    "    检测范围\n",
    "except Exception[as reason]:\n",
    "     出现异常后的处理代码\n",
    "finally:\n",
    "     无论如何都会被执行的代码\n",
    "\"\"\"\n",
    "def divide(x, y):\n",
    "    try:\n",
    "        result = x/y\n",
    "        print(\"result is \"+ result)\n",
    "    except Exception as error:\n",
    "        print(\"Error is :\",error)\n",
    "    finally:\n",
    "        print('executing finally clause')\n",
    "divide(1,0)"
   ]
  },
  {
   "cell_type": "code",
   "execution_count": 24,
   "metadata": {},
   "outputs": [
    {
     "name": "stdout",
     "output_type": "stream",
     "text": [
      "Error is : unsupported operand type(s) for /: 'str' and 'str'\n",
      "executing finally clause\n"
     ]
    }
   ],
   "source": [
    "divide('2','1')"
   ]
  },
  {
   "cell_type": "code",
   "execution_count": 25,
   "metadata": {},
   "outputs": [
    {
     "name": "stdout",
     "output_type": "stream",
     "text": [
      "内容书写成功\n"
     ]
    }
   ],
   "source": [
    "# try - except - else\n",
    "\"\"\"\n",
    "try:\n",
    "    检测范围\n",
    "except:\n",
    "    出现异常后的处理代码\n",
    "else:\n",
    "    如果没有异常执行这块代码\n",
    "    \n",
    "else语句要在except存在的前提下使用\n",
    "\"\"\"\n",
    "try:\n",
    "    f = open('testfile', 'w')\n",
    "    f.write(\"这是一个测试文件，用于测试异常！\")\n",
    "except IOErro:\n",
    "    print(\"Error: 没有找到文件或读取文件失败\")\n",
    "else:\n",
    "    print(\"内容书写成功\")\n",
    "    f.close()"
   ]
  },
  {
   "cell_type": "code",
   "execution_count": 26,
   "metadata": {},
   "outputs": [
    {
     "name": "stdout",
     "output_type": "stream",
     "text": [
      "An exception flew by!\n"
     ]
    }
   ],
   "source": [
    "# riase\n",
    "\"\"\"\n",
    "    用 raise 语句抛出一个指定的异常。\n",
    "\"\"\"\n",
    "try:\n",
    "    raise NameError('HiThere')\n",
    "except NameError:\n",
    "    print('An exception flew by!')\n"
   ]
  },
  {
   "cell_type": "code",
   "execution_count": null,
   "metadata": {},
   "outputs": [],
   "source": [
    "# 练习题\n",
    "# 猜数字\n",
    "import random\n",
    "print('猜测一个0到100之间的整数。')\n",
    "i = 0\n",
    "target = random.randint(0,100)\n",
    "while(True):\n",
    "    i += 1\n",
    "    try:\n",
    "        guess = int(input('第%d次猜，请输入一个整型数字：'%i))\n",
    "        if guess > target:\n",
    "            print('太大')\n",
    "        elif guess < target:\n",
    "            print('太小')\n",
    "        else:\n",
    "            print(\"恭喜你猜到了这个数字是\"+str(target))\n",
    "            break\n",
    "    except:\n",
    "        print('输入无效')"
   ]
  },
  {
   "cell_type": "code",
   "execution_count": null,
   "metadata": {},
   "outputs": [],
   "source": []
  }
 ],
 "metadata": {
  "kernelspec": {
   "display_name": "Python 3",
   "language": "python",
   "name": "python3"
  },
  "language_info": {
   "codemirror_mode": {
    "name": "ipython",
    "version": 3
   },
   "file_extension": ".py",
   "mimetype": "text/x-python",
   "name": "python",
   "nbconvert_exporter": "python",
   "pygments_lexer": "ipython3",
   "version": "3.7.7"
  }
 },
 "nbformat": 4,
 "nbformat_minor": 4
}
