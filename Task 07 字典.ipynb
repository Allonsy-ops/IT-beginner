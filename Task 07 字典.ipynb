{
 "cells": [
  {
   "cell_type": "code",
   "execution_count": 1,
   "metadata": {},
   "outputs": [
    {
     "name": "stdout",
     "output_type": "stream",
     "text": [
      "140716679274896\n",
      "140716679274960\n",
      "1974239742152\n",
      "1974239742152\n"
     ]
    }
   ],
   "source": [
    "'''\n",
    "    如何快速判断一个数据类型 X 是不是可变类型的呢？两种方法：\n",
    "    1. 麻烦方法：用 id(X) 函数，对 X 进行某种操作，比较操作前后的 id ，\n",
    "    如果不一样，则 X 不可变，如果一样，则 X 可变。\n",
    "    2. 便捷方法：用 hash(X) ，只要不报错，证明 X 可被哈希，即不可变，\n",
    "    反过来不可被哈希，即可变。\n",
    "    \n",
    "    1. 数值、字符和元组 都能被哈希，因此它们是不可变类型。\n",
    "    2. 列表、集合、字典不能被哈希，因此它是可变类型。\n",
    "\n",
    "'''\n",
    "\n",
    "i = 1\n",
    "print(id(i)) \n",
    "i = i + 2\n",
    "print(id(i)) # 整数不可变\n",
    "\n",
    "l = [1, 2] # 列表可变\n",
    "print(id(l)) \n",
    "l.append('Python')\n",
    "print(id(l)) "
   ]
  },
  {
   "cell_type": "code",
   "execution_count": 3,
   "metadata": {},
   "outputs": [
    {
     "name": "stdout",
     "output_type": "stream",
     "text": [
      "-5672698900024233943\n",
      "7535484540994927560\n"
     ]
    },
    {
     "ename": "TypeError",
     "evalue": "unhashable type: 'set'",
     "output_type": "error",
     "traceback": [
      "\u001b[1;31m---------------------------------------------------------------------------\u001b[0m",
      "\u001b[1;31mTypeError\u001b[0m                                 Traceback (most recent call last)",
      "\u001b[1;32m<ipython-input-3-3f29b618078c>\u001b[0m in \u001b[0;36m<module>\u001b[1;34m\u001b[0m\n\u001b[0;32m      3\u001b[0m \u001b[1;31m# print(hash([1, 2, 'Python'])) # unhashable type: 'list'\u001b[0m\u001b[1;33m\u001b[0m\u001b[1;33m\u001b[0m\u001b[1;33m\u001b[0m\u001b[0m\n\u001b[0;32m      4\u001b[0m \u001b[1;33m\u001b[0m\u001b[0m\n\u001b[1;32m----> 5\u001b[1;33m \u001b[0mprint\u001b[0m\u001b[1;33m(\u001b[0m\u001b[0mhash\u001b[0m\u001b[1;33m(\u001b[0m\u001b[1;33m{\u001b[0m\u001b[1;36m1\u001b[0m\u001b[1;33m,\u001b[0m \u001b[1;36m2\u001b[0m\u001b[1;33m,\u001b[0m \u001b[1;36m3\u001b[0m\u001b[1;33m}\u001b[0m\u001b[1;33m)\u001b[0m\u001b[1;33m)\u001b[0m\u001b[1;33m\u001b[0m\u001b[1;33m\u001b[0m\u001b[0m\n\u001b[0m",
      "\u001b[1;31mTypeError\u001b[0m: unhashable type: 'set'"
     ]
    }
   ],
   "source": [
    "print(hash('Name')) \n",
    "print(hash((1, 2, 'Python'))) \n",
    "# print(hash([1, 2, 'Python'])) # unhashable type: 'list'\n",
    "\n",
    "print(hash({1, 2, 3})) # unhashable type: 'set'"
   ]
  },
  {
   "cell_type": "code",
   "execution_count": 4,
   "metadata": {},
   "outputs": [
    {
     "name": "stdout",
     "output_type": "stream",
     "text": [
      "耐克的口号是: Just do it\n"
     ]
    }
   ],
   "source": [
    "'''\n",
    "    字典: {key1:value1, key2:value2, key3: value3}\n",
    "\n",
    "'''\n",
    "\n",
    "# 创建字典\n",
    "\n",
    "brand = ['李宁', '耐克', '阿迪达斯']\n",
    "slogan = ['一切皆有可能', 'Just do it', 'Impossible is nothing']\n",
    "print('耐克的口号是:', slogan[brand.index('耐克')]) "
   ]
  },
  {
   "cell_type": "code",
   "execution_count": 5,
   "metadata": {},
   "outputs": [
    {
     "name": "stdout",
     "output_type": "stream",
     "text": [
      "耐克的口号是: Just do it\n"
     ]
    }
   ],
   "source": [
    "dic = {'李宁': '一切皆有可能', '耐克': 'Just do it', '阿迪达斯': 'Impossible is nothing'}\n",
    "print('耐克的口号是:', dic['耐克']) "
   ]
  },
  {
   "cell_type": "code",
   "execution_count": 16,
   "metadata": {},
   "outputs": [
    {
     "name": "stdout",
     "output_type": "stream",
     "text": [
      "{1: 'one', 2: 'two', 3: 'three'}\n",
      "one\n"
     ]
    }
   ],
   "source": [
    "dic1 = {1: 'one', 2: 'two', 3: 'three'}\n",
    "print(dic1) # {1: 'one', 2: 'two', 3: 'three'}\n",
    "\n",
    "print(dic1[1]) \n",
    "# 是在根据键值对进行索引，而不是indexing\n",
    "\n",
    "# print(dic1[4]) # KeyError: 4"
   ]
  },
  {
   "cell_type": "code",
   "execution_count": 17,
   "metadata": {},
   "outputs": [
    {
     "name": "stdout",
     "output_type": "stream",
     "text": [
      "{'a': 1, 'b': 2, 'c': 3}\n",
      "{'a': 11, 'b': 2, 'c': 3}\n"
     ]
    }
   ],
   "source": [
    "\"\"\"\n",
    "1. dict() -> 创建一个空的字典。\n",
    "【例子】通过 key 直接把数据放入字典中，但一个 key 只能对应一个 value ，多次对一个 key 放入 value ，后\n",
    "面的值会把前面的值冲掉。\n",
    "\n",
    "\"\"\"\n",
    "dic = dict()\n",
    "dic['a'] = 1\n",
    "dic['b'] = 2\n",
    "dic['c'] = 3\n",
    "print(dic)\n",
    " \n",
    "dic['a'] = 11\n",
    "print(dic)"
   ]
  },
  {
   "cell_type": "code",
   "execution_count": 18,
   "metadata": {},
   "outputs": [
    {
     "name": "stdout",
     "output_type": "stream",
     "text": [
      "{'apple': 4139, 'peach': 4127, 'cherry': 4098}\n",
      "{'apple': 4139, 'peach': 4127, 'cherry': 4098}\n"
     ]
    }
   ],
   "source": [
    "\"\"\"\n",
    "1. dict(mapping) -> new dictionary initialized from a mapping object's (key, value) pairs\n",
    "\n",
    "\"\"\"\n",
    "dic1 = dict([('apple', 4139), ('peach', 4127), ('cherry', 4098)])\n",
    "print(dic1) \n",
    "dic2 = dict((('apple', 4139), ('peach', 4127), ('cherry', 4098)))\n",
    "print(dic2) "
   ]
  },
  {
   "cell_type": "code",
   "execution_count": 19,
   "metadata": {},
   "outputs": [
    {
     "name": "stdout",
     "output_type": "stream",
     "text": [
      "{'name': 'Tom', 'age': 10}\n",
      "<class 'dict'>\n"
     ]
    }
   ],
   "source": [
    "'''\n",
    "1. dict(**kwargs) -> new dictionary initialized with the name=value pairs in the keyword argument list. For\n",
    "example: dict(one=1, two=2)\n",
    "【例子】这种情况下，键只能为字符串类型，并且创建的时候字符串不能加引号，加上就会直接报语法错误。\n",
    "\n",
    "'''\n",
    "dic = dict(name='Tom', age=10)\n",
    "print(dic)  \n",
    "print(type(dic)) "
   ]
  },
  {
   "cell_type": "code",
   "execution_count": 20,
   "metadata": {},
   "outputs": [
    {
     "name": "stdout",
     "output_type": "stream",
     "text": [
      "新的字典为 : {'name': None, 'age': None, 'sex': None}\n",
      "新的字典为 : {'name': 10, 'age': 10, 'sex': 10}\n",
      "新的字典为 : {'name': ('小马', '8', '男'), 'age': ('小马', '8', '男'), 'sex': ('小马', '8', '男')}\n"
     ]
    }
   ],
   "source": [
    "\"\"\"\n",
    "dict.fromkeys(seq[, value]) 用于创建一个新字典，以序列 seq 中元素做字典的键， value 为字典所\n",
    "有键对应的初始值。\n",
    "\n",
    "\"\"\"\n",
    "seq = ('name', 'age', 'sex')\n",
    "dic1 = dict.fromkeys(seq)\n",
    "print(\"新的字典为 : %s\" % str(dic1))\n",
    " \n",
    "dic2 = dict.fromkeys(seq, 10)\n",
    "print(\"新的字典为 : %s\" % str(dic2))\n",
    "\n",
    "dic3 = dict.fromkeys(seq, ('小马', '8', '男'))\n",
    "print(\"新的字典为 : %s\" % str(dic3)) "
   ]
  },
  {
   "cell_type": "code",
   "execution_count": 21,
   "metadata": {},
   "outputs": [
    {
     "name": "stdout",
     "output_type": "stream",
     "text": [
      "dict_keys(['Name', 'Age'])\n",
      "['Name', 'Age']\n"
     ]
    }
   ],
   "source": [
    "\"\"\"\n",
    "1. dict.keys() 返回一个可迭代对象，可以使用 list() 来转换为列表，列表为字典中的所有键\n",
    "\"\"\"\n",
    "dic = {'Name': 'lsgogroup', 'Age': 7}\n",
    "print(dic.keys())  \n",
    "lst = list(dic.keys()) # 转换为列表\n",
    "print(lst)\n"
   ]
  },
  {
   "cell_type": "code",
   "execution_count": 23,
   "metadata": {},
   "outputs": [
    {
     "name": "stdout",
     "output_type": "stream",
     "text": [
      "字典所有值为 :  ['female', 7, 'Zara']\n"
     ]
    }
   ],
   "source": [
    "\"\"\"\n",
    "1. dict.values() 返回一个迭代器，可以使用 list() 来转换为列表，列表为字典中的所有值。\n",
    "\"\"\"\n",
    "dic = {'Sex': 'female', 'Age': 7, 'Name': 'Zara'}\n",
    "print(\"字典所有值为 : \", list(dic.values())) "
   ]
  },
  {
   "cell_type": "code",
   "execution_count": 27,
   "metadata": {},
   "outputs": [
    {
     "name": "stdout",
     "output_type": "stream",
     "text": [
      "Value : dict_items([('Name', 'Lsgogroup'), ('Age', 7)])\n",
      "(('Name', 'Lsgogroup'), ('Age', 7))\n"
     ]
    }
   ],
   "source": [
    "\"\"\"\n",
    "1. dict.items() 以列表返回可遍历的 (键, 值) 元组数组。\n",
    "\n",
    "\"\"\"\n",
    "dic = {'Name': 'Lsgogroup', 'Age': 7}\n",
    "print(\"Value : %s\" % dic.items())\n",
    "\n",
    "print(tuple(dic.items())) \n"
   ]
  },
  {
   "cell_type": "code",
   "execution_count": 28,
   "metadata": {},
   "outputs": [
    {
     "name": "stdout",
     "output_type": "stream",
     "text": [
      "Age 值为 : 27\n",
      "Sex 值为 : NA\n"
     ]
    }
   ],
   "source": [
    "\"\"\"\n",
    "1. dict.get(key, default=None) 返回指定键的值，如果值不在字典中返回默认值。\n",
    "\n",
    "\"\"\"\n",
    "dic = {'Name': 'Lsgogroup', 'Age': 27}\n",
    "print(\"Age 值为 : %s\" % dic.get('Age'))  \n",
    "print(\"Sex 值为 : %s\" % dic.get('Sex', \"NA\")) "
   ]
  },
  {
   "cell_type": "code",
   "execution_count": 29,
   "metadata": {},
   "outputs": [
    {
     "name": "stdout",
     "output_type": "stream",
     "text": [
      "Age 键的值为 : 7\n",
      "Sex 键的值为 : None\n",
      "新字典为： {'Name': 'Lsgogroup', 'Age': 7, 'Sex': None}\n"
     ]
    }
   ],
   "source": [
    "\"\"\"\n",
    "1. dict.setdefault(key, default=None) 和 get() 方法 类似, 如果键不存在于字典中，将会添加键并将值设\n",
    "为默认值\n",
    "\"\"\"\n",
    "dic = {'Name': 'Lsgogroup', 'Age': 7}\n",
    "print(\"Age 键的值为 : %s\" % dic.setdefault('Age', None)) # Age 键的值为 : 7\n",
    "print(\"Sex 键的值为 : %s\" % dic.setdefault('Sex', None)) # Sex 键的值为 : None\n",
    "print(\"新字典为：\", dic) "
   ]
  },
  {
   "cell_type": "code",
   "execution_count": 30,
   "metadata": {},
   "outputs": [
    {
     "name": "stdout",
     "output_type": "stream",
     "text": [
      "键 Age 存在\n",
      "键 Sex 不存在\n",
      "键 Age 存在\n"
     ]
    }
   ],
   "source": [
    "\"\"\"\n",
    "1. key in dict in 操作符用于判断键是否存在于字典中，如果键在字典 dict 里返回 true ，否则返\n",
    "回 false 。而 not in 操作符刚好相反，如果键在字典 dict 里返回 false ，否则返回 true 。\n",
    "\n",
    "\"\"\"\n",
    "dic = {'Name': 'Lsgogroup', 'Age': 7}\n",
    " \n",
    "if 'Age' in dic:\n",
    "    print(\"键 Age 存在\")\n",
    "else:\n",
    "    print(\"键 Age 不存在\")\n",
    "\n",
    "if 'Sex' in dic:\n",
    "    print(\"键 Sex 存在\")\n",
    "else:\n",
    "    print(\"键 Sex 不存在\")\n",
    "\n",
    "if 'Age' not in dic:\n",
    "    print(\"键 Age 不存在\")\n",
    "else:\n",
    "    print(\"键 Age 存在\")\n"
   ]
  },
  {
   "cell_type": "code",
   "execution_count": 35,
   "metadata": {},
   "outputs": [
    {
     "name": "stdout",
     "output_type": "stream",
     "text": [
      "a {2: [1, 2]}\n",
      "no such key {2: [1, 2]}\n",
      "{}\n"
     ]
    }
   ],
   "source": [
    "\"\"\"\n",
    "1. dict.pop(key[,default]) 删除字典给定键 key 所对应的值，返回值为被删除的值。 key 值必须给出。\n",
    "若 key 不存在，则返回 default 值。\n",
    "2. del dict[key] 删除字典给定键 key 所对应的值。\n",
    "\n",
    "\"\"\"\n",
    "dic1 = {1: \"a\", 2: [1, 2]}\n",
    "print(dic1.pop(1,'真的没这个键啊朋友'), dic1) \n",
    "\n",
    "# 设置默认值，必须添加，否则报错\n",
    "print(dic1.pop(3, \"no such key\"), dic1) # nokey {2: [1, 2]}\n",
    "del dic1[2]\n",
    "print(dic1) "
   ]
  },
  {
   "cell_type": "code",
   "execution_count": 36,
   "metadata": {},
   "outputs": [
    {
     "name": "stdout",
     "output_type": "stream",
     "text": [
      "(2, [1, 2])\n",
      "{1: 'a'}\n"
     ]
    }
   ],
   "source": [
    "\"\"\"\n",
    "1. dict.popitem() 随机返回并删除字典中的一对键和值，如果字典已经为空，却调用了此方法，就报出\n",
    "KeyError异常。\n",
    "\n",
    "\"\"\"\n",
    "dic1 = {1: \"a\", 2: [1, 2]}\n",
    "print(dic1.popitem()) # (1, 'a')\n",
    "print(dic1) "
   ]
  },
  {
   "cell_type": "code",
   "execution_count": 40,
   "metadata": {},
   "outputs": [
    {
     "name": "stdout",
     "output_type": "stream",
     "text": [
      "字典长度 : 2\n",
      "字典删除后长度 : 0\n"
     ]
    }
   ],
   "source": [
    "\"\"\"\n",
    "1. dict.clear(dic) 用于删除字典内所有元素。\n",
    "\n",
    "\"\"\"\n",
    "dic = {'Name': 'Zara', 'Age': 7}\n",
    "print(\"字典长度 : %d\" % len(dic)) \n",
    "dict.clear(dic)\n",
    "print(\"字典删除后长度 : %d\" % len(dic))\n"
   ]
  },
  {
   "cell_type": "code",
   "execution_count": 41,
   "metadata": {},
   "outputs": [
    {
     "name": "stdout",
     "output_type": "stream",
     "text": [
      "新复制的字典为 :  {'Name': 'Lsgogroup', 'Age': 7, 'Class': 'First'}\n"
     ]
    }
   ],
   "source": [
    "\"\"\"\n",
    "1. dict.copy() 返回一个字典的浅复制。\n",
    "\n",
    "\"\"\"\n",
    "dic1 = {'Name': 'Lsgogroup', 'Age': 7, 'Class': 'First'}\n",
    "dic2 = dic1.copy()\n",
    "print(\"新复制的字典为 : \", dic2) "
   ]
  },
  {
   "cell_type": "code",
   "execution_count": 43,
   "metadata": {},
   "outputs": [
    {
     "name": "stdout",
     "output_type": "stream",
     "text": [
      "1974241074456\n",
      "1974241074456\n",
      "1974241074376\n",
      "{'user': 'root', 'num': [2, 3]}\n",
      "{'user': 'root', 'num': [2, 3]}\n",
      "{'user': 'lsgogroup', 'num': [2, 3]}\n"
     ]
    }
   ],
   "source": [
    "\"\"\"\n",
    "【例子】直接赋值和 copy 的区别\n",
    "\n",
    "\"\"\"\n",
    "dic1 = {'user': 'lsgogroup', 'num': [1, 2, 3]}\n",
    "# 引用对象\n",
    "dic2 = dic1\n",
    "# 深拷贝父对象（一级目录），子对象（二级目录）不拷贝，还是引用\n",
    "dic3 = dic1.copy()\n",
    "print(id(dic1)) # 148635574728\n",
    "print(id(dic2)) # 148635574728\n",
    "print(id(dic3)) # 148635574344\n",
    "# 修改 data 数据\n",
    "dic1['user'] = 'root'\n",
    "dic1['num'].remove(1)\n",
    "# 输出结果\n",
    "print(dic1) # {'user': 'root', 'num': [2, 3]}\n",
    "print(dic2) # {'user': 'root', 'num': [2, 3]}\n",
    "print(dic3) "
   ]
  },
  {
   "cell_type": "code",
   "execution_count": 44,
   "metadata": {},
   "outputs": [
    {
     "name": "stdout",
     "output_type": "stream",
     "text": [
      "更新字典 dict :  {'Name': 'Lsgogroup', 'Age': 8, 'Sex': 'female'}\n"
     ]
    }
   ],
   "source": [
    "\"\"\"\n",
    "1. dict.update(dict2) 把字典参数 dict2 的 key:value 对 更新到字典 dict 里。\n",
    "\n",
    "\"\"\"\n",
    "dic = {'Name': 'Lsgogroup', 'Age': 7}\n",
    "dic2 = {'Sex': 'female', 'Age': 8}\n",
    "dic.update(dic2)\n",
    "print(\"更新字典 dict : \", dic) "
   ]
  },
  {
   "cell_type": "code",
   "execution_count": 54,
   "metadata": {},
   "outputs": [
    {
     "name": "stdout",
     "output_type": "stream",
     "text": [
      "3\n",
      "{'python': 95, 'java': 98, 'c': 100}\n",
      "{'python': 95, 'java': 98}\n",
      "{'python': 95, 'java': 98, 'php': 90}\n",
      "['python', 'java', 'php']\n",
      "[95, 98, 90]\n",
      "False\n",
      "283\n",
      "98\n",
      "90\n",
      "{'python': 95, 'java': 98, 'php': 90}\n"
     ]
    }
   ],
   "source": [
    "\"\"\"\n",
    "练习题：\n",
    "1、字典基本操作\n",
    "字典内容如下:\n",
    "\n",
    "dic = {'python': 95,'java': 99,'c': 100}\n",
    " \n",
    "用程序解答下面的题目\n",
    "1. 字典的长度是多少\n",
    "2. 请修改'java' 这个key对应的value值为98\n",
    "3. 删除 c 这个key\n",
    "4. 增加一个key-value对，key值为 php, value是90\n",
    "5. 获取所有的key值，存储在列表里\n",
    "6. 获取所有的value值，存储在列表里\n",
    "7. 判断 javascript 是否在字典中\n",
    "8. 获得字典里所有value 的和\n",
    "9. 获取字典里最大的value\n",
    "10. 获取字典里最小的value\n",
    "11. 字典 dic1 = {'php': 97}， 将dic1的数据更新到dic中\n",
    "\n",
    "\"\"\"\n",
    "dic = {'python': 95,'java': 99,'c': 100}\n",
    "\n",
    "print(len(dic))# 1. 字典的长度是多少\n",
    "\n",
    "dic['java'] = 98 # 2. 请修改'java' 这个key对应的value值为98\n",
    "print(dic)\n",
    "\n",
    "dic.pop('c') # 3. 删除 c 这个key\n",
    "print(dic)\n",
    "\n",
    "dic['php'] = 90  # 4. 增加一个key-value对，key值为 php, value是90\n",
    "print(dic)\n",
    "\n",
    "\n",
    "print(list(dic.keys())) # 5. 获取所有的key值，存储在列表里\n",
    "\n",
    "print(list(dic.values()))  # 6. 获取所有的value值，存储在列表里\n",
    "\n",
    "print('javascript' in dic) # 7. 判断 javascript 是否在字典中\n",
    "\n",
    "print(sum(list(dic.values()))) # 8. 获得字典里所有value 的和\n",
    "\n",
    "print(max(list(dic.values()))) # 9. 获取字典里最大的value\n",
    "\n",
    "print(min(list(dic.values()))) # 10. 获取字典里最小的value\n",
    "\n",
    "dic2 = {'php':90} # 11. 字典 dic1 = {'php': 97}， 将dic1的数据更新到dic中\n",
    "dic.update(dic2)\n",
    "print(dic)"
   ]
  },
  {
   "cell_type": "code",
   "execution_count": 68,
   "metadata": {},
   "outputs": [
    {
     "name": "stdout",
     "output_type": "stream",
     "text": [
      "{'python': {'上学期': '90', '下学期': '95'}, 'c++': ['95', '96', '97'], 'java': [{'月考': '90', '期中考试': '94', '期末考试': '98'}]}\n",
      "False\n"
     ]
    }
   ],
   "source": [
    "\"\"\"\n",
    "2、字典中的value\n",
    "有一个字典，保存的是学生各个编程语言的成绩，内容如下\n",
    "\n",
    "各门课程的考试成绩存储方式并不相同，有的用字典，有的用列表，\n",
    "但是分数都是字符串类型，请实现函数 transfer_score(score_dict) ，\n",
    "将分数修改成int类型\n",
    "\n",
    "\"\"\"\n",
    "data = {\n",
    " 'python': {'上学期': '90', '下学期': '95'},\n",
    " 'c++': ['95', '96', '97'],\n",
    " 'java': [{'月考':'90', '期中考试': '94', '期末考试': '98'}]\n",
    " }\n",
    "\n",
    "def transfer_score(data):\n",
    "    def trans_dic(dic):\n",
    "        for i in dic.keys():\n",
    "            dic[i] = di\n",
    "    for key in data.keys():\n",
    "        if type(data[key]) == 'list':\n",
    "            \n",
    "        elif type(data[key]) == 'dict':\n",
    "            for i in data[key].keys():\n",
    "                data[key].keys()[i] = int(data[key].keys())\n",
    "    print(data)\n",
    "    \n",
    "transfer_score(data)\n",
    "\n",
    "print(type(data['python']) ==\" <class 'dict'>\")"
   ]
  },
  {
   "cell_type": "code",
   "execution_count": null,
   "metadata": {},
   "outputs": [],
   "source": []
  }
 ],
 "metadata": {
  "kernelspec": {
   "display_name": "Python 3",
   "language": "python",
   "name": "python3"
  },
  "language_info": {
   "codemirror_mode": {
    "name": "ipython",
    "version": 3
   },
   "file_extension": ".py",
   "mimetype": "text/x-python",
   "name": "python",
   "nbconvert_exporter": "python",
   "pygments_lexer": "ipython3",
   "version": "3.7.7"
  }
 },
 "nbformat": 4,
 "nbformat_minor": 4
}
